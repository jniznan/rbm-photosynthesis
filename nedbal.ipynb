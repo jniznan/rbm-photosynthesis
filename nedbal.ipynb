{
 "metadata": {
  "name": "",
  "signature": "sha256:937853610a324e4f6a018a0b1a5620b167aed24550ba3565cc11767ee54f4d66"
 },
 "nbformat": 3,
 "nbformat_minor": 0,
 "worksheets": [
  {
   "cells": [
    {
     "cell_type": "code",
     "collapsed": false,
     "input": [
      "from models.nedbal.naive import model\n",
      "import matplotlib.pyplot as plt\n",
      "from pysb import bng\n",
      "import pysb\n",
      "from tools import dfs, rules, context_elimination, bng_simulate, reaction_network, to_bngl\n",
      "import pandas as pd\n",
      "import matplotlib\n",
      "import numpy as np\n",
      "import networkx as nx\n",
      "%matplotlib inline"
     ],
     "language": "python",
     "metadata": {},
     "outputs": [],
     "prompt_number": 2
    },
    {
     "cell_type": "markdown",
     "metadata": {},
     "source": [
      "### Original model"
     ]
    },
    {
     "cell_type": "code",
     "collapsed": false,
     "input": [
      "len(model.rules)"
     ],
     "language": "python",
     "metadata": {},
     "outputs": [
      {
       "metadata": {},
       "output_type": "pyout",
       "prompt_number": 9,
       "text": [
        "25"
       ]
      }
     ],
     "prompt_number": 9
    },
    {
     "cell_type": "code",
     "collapsed": false,
     "input": [
      "print to_bngl(model)"
     ],
     "language": "python",
     "metadata": {},
     "outputs": [
      {
       "output_type": "stream",
       "stream": "stdout",
       "text": [
        "begin parameters\n",
        "  k      1.000000e+00\n",
        "  init   1.000000e+00\n",
        "end parameters\n",
        "\n",
        "begin molecule types\n",
        "  PSII(Ant~n~exc,Yz~n~p,P680~n~p,ChlD~n~exc~p,Pheo~n~m,Qa~n~m,S~0~1~2~3~4,Qb~n~m~2m~empty)\n",
        "end molecule types\n",
        "\n",
        "begin species\n",
        "  PSII(Ant~n,Yz~n,P680~n,ChlD~n,Pheo~n,Qa~n,S~0,Qb~n)   init\n",
        "end species\n",
        "begin reaction rules\n",
        "  excitation_antenna:                             PSII(Ant~n) -> PSII(Ant~exc)    k\n",
        "  excitation_primary_chlorophyll_donor:           PSII(ChlD~n) -> PSII(ChlD~exc)    k\n",
        "  energy_transfer:                                PSII(Ant~exc,ChlD~n) <-> PSII(Ant~n,ChlD~exc)    k, k\n",
        "  deexcitation_antenna:                           PSII(Ant~exc) -> PSII(Ant~n)    k\n",
        "  deexcitation_chlor_donor:                       PSII(ChlD~exc) -> PSII(ChlD~n)    k\n",
        "  primary_charge_separation:                      PSII(Yz~n,P680~n,ChlD~exc,Pheo~n) -> PSII(Yz~n,P680~n,ChlD~p,Pheo~m)    k\n",
        "  stable_radical_pair_generation:                 PSII(Yz~n,P680~n,ChlD~p,Pheo~m) -> PSII(Yz~n,P680~p,ChlD~n,Pheo~m)    k\n",
        "  quinone_qa_reduction_preserving_P680_oxidized:  PSII(Yz~n,P680~p,ChlD~n,Pheo~m,Qa~n) -> PSII(Yz~n,P680~p,ChlD~n,Pheo~n,Qa~m)    k\n",
        "  tyrosine_oxidation:                             PSII(Yz~n,P680~p,ChlD~n,Pheo~n,Qa~m) -> PSII(Yz~p,P680~n,ChlD~n,Pheo~n,Qa~m)    k\n",
        "  tyrosine_oxidation_preserving_Pheo_reduced:     PSII(Yz~n,P680~p,ChlD~n,Pheo~m) -> PSII(Yz~p,P680~n,ChlD~n,Pheo~m)    k\n",
        "  quinone_qa_reduction_preserving_Yz_oxidized:    PSII(Yz~p,P680~n,ChlD~n,Pheo~m,Qa~n) -> PSII(Yz~p,P680~n,ChlD~n,Pheo~n,Qa~m)    k\n",
        "  quinone_qa_reduction:                           PSII(Yz~n,P680~n,ChlD~n,Pheo~m,Qa~n) -> PSII(Yz~n,P680~n,ChlD~n,Pheo~n,Qa~m)    k\n",
        "  s_state_transition_0:                           PSII(Yz~p,P680~n,ChlD~n,Pheo~n,S~0) -> PSII(Yz~n,P680~n,ChlD~n,Pheo~n,S~1)    k\n",
        "  s_state_transition_1:                           PSII(Yz~p,P680~n,ChlD~n,Pheo~n,S~1) -> PSII(Yz~n,P680~n,ChlD~n,Pheo~n,S~2)    k\n",
        "  s_state_transition_2:                           PSII(Yz~p,P680~n,ChlD~n,Pheo~n,S~2) -> PSII(Yz~n,P680~n,ChlD~n,Pheo~n,S~3)    k\n",
        "  s_state_transition_3:                           PSII(Yz~p,P680~n,ChlD~n,Pheo~n,S~3) -> PSII(Yz~n,P680~n,ChlD~n,Pheo~n,S~4)    k\n",
        "  s_state_transition_0_with_Pheo_reduced:         PSII(Yz~p,P680~n,ChlD~n,Pheo~m,S~0) -> PSII(Yz~n,P680~n,ChlD~n,Pheo~m,S~1)    k\n",
        "  s_state_transition_1_with_Pheo_reduced:         PSII(Yz~p,P680~n,ChlD~n,Pheo~m,S~1) -> PSII(Yz~n,P680~n,ChlD~n,Pheo~m,S~2)    k\n",
        "  s_state_transition_2_with_Pheo_reduced:         PSII(Yz~p,P680~n,ChlD~n,Pheo~m,S~2) -> PSII(Yz~n,P680~n,ChlD~n,Pheo~m,S~3)    k\n",
        "  s_state_transition_3_with_Pheo_reduced:         PSII(Yz~p,P680~n,ChlD~n,Pheo~m,S~3) -> PSII(Yz~n,P680~n,ChlD~n,Pheo~m,S~4)    k\n",
        "  S4_to_S0_transition:                            PSII(S~4) -> PSII(S~0)    k\n",
        "  qb_reduction_by_qa_1:                           PSII(Qa~m,Qb~n) -> PSII(Qa~n,Qb~m)    k\n",
        "  qb_reduction_by_qa_2:                           PSII(Qa~m,Qb~m) -> PSII(Qa~n,Qb~2m)    k\n",
        "  plastoquinone_release:                          PSII(Qb~2m) -> PSII(Qb~empty)    k\n",
        "  plastoquinone_arrival:                          PSII(Qb~empty) -> PSII(Qb~n)    k\n",
        "end reaction rules\n",
        "\n",
        "\n"
       ]
      }
     ],
     "prompt_number": 3
    },
    {
     "cell_type": "markdown",
     "metadata": {},
     "source": [
      "### Reduced models"
     ]
    },
    {
     "cell_type": "code",
     "collapsed": false,
     "input": [
      "m1 = dfs(model, up_to_cee=True)"
     ],
     "language": "python",
     "metadata": {},
     "outputs": [
      {
       "output_type": "stream",
       "stream": "stdout",
       "text": [
        "bi: deexcitation_chlor_donor__excitation_primary_chlorophyll_donor\n",
        "bi: deexcitation_antenna__excitation_antenna"
       ]
      },
      {
       "output_type": "stream",
       "stream": "stdout",
       "text": [
        "\n",
        "CEE: 0 Pheo; s_state_transition_2___2__2_with_Pheo_reduced"
       ]
      },
      {
       "output_type": "stream",
       "stream": "stdout",
       "text": [
        "\n",
        "CEE: 0 Pheo; s_state_transition_0___0__0_with_Pheo_reduced"
       ]
      },
      {
       "output_type": "stream",
       "stream": "stdout",
       "text": [
        "\n",
        "CEE: 0 Pheo; s_state_transition_3___3__3_with_Pheo_reduced"
       ]
      },
      {
       "output_type": "stream",
       "stream": "stdout",
       "text": [
        "\n",
        "CEE: 0 Pheo; s_state_transition_1___1__1_with_Pheo_reduced"
       ]
      },
      {
       "output_type": "stream",
       "stream": "stdout",
       "text": [
        "\n"
       ]
      }
     ],
     "prompt_number": 4
    },
    {
     "cell_type": "code",
     "collapsed": false,
     "input": [
      "print to_bngl(m1)"
     ],
     "language": "python",
     "metadata": {},
     "outputs": [
      {
       "output_type": "stream",
       "stream": "stdout",
       "text": [
        "begin parameters\n",
        "  k      1.000000e+00\n",
        "  init   1.000000e+00\n",
        "end parameters\n",
        "\n",
        "begin molecule types\n",
        "  PSII(Ant~n~exc,Yz~n~p,P680~n~p,ChlD~n~exc~p,Pheo~n~m,Qa~n~m,S~0~1~2~3~4,Qb~n~m~2m~empty)\n",
        "end molecule types\n",
        "\n",
        "begin species\n",
        "  PSII(Ant~n,Yz~n,P680~n,ChlD~n,Pheo~n,Qa~n,S~0,Qb~n)   init\n",
        "end species\n",
        "begin reaction rules\n",
        "  energy_transfer:                                                 PSII(Ant~exc,ChlD~n) <-> PSII(Ant~n,ChlD~exc)    k, k\n",
        "  deexcitation_antenna__excitation_antenna:                        PSII(Ant~n) <-> PSII(Ant~exc)    k, k\n",
        "  deexcitation_chlor_donor__excitation_primary_chlorophyll_donor:  PSII(ChlD~exc) <-> PSII(ChlD~n)    k, k\n",
        "  primary_charge_separation:                                       PSII(Yz~n,P680~n,ChlD~exc,Pheo~n) -> PSII(Yz~n,P680~n,ChlD~p,Pheo~m)    k\n",
        "  stable_radical_pair_generation:                                  PSII(Yz~n,P680~n,ChlD~p,Pheo~m) -> PSII(Yz~n,P680~p,ChlD~n,Pheo~m)    k\n",
        "  quinone_qa_reduction_preserving_P680_oxidized:                   PSII(Yz~n,P680~p,ChlD~n,Pheo~m,Qa~n) -> PSII(Yz~n,P680~p,ChlD~n,Pheo~n,Qa~m)    k\n",
        "  tyrosine_oxidation:                                              PSII(Yz~n,P680~p,ChlD~n,Pheo~n,Qa~m) -> PSII(Yz~p,P680~n,ChlD~n,Pheo~n,Qa~m)    k\n",
        "  tyrosine_oxidation_preserving_Pheo_reduced:                      PSII(Yz~n,P680~p,ChlD~n,Pheo~m) -> PSII(Yz~p,P680~n,ChlD~n,Pheo~m)    k\n",
        "  quinone_qa_reduction_preserving_Yz_oxidized:                     PSII(Yz~p,P680~n,ChlD~n,Pheo~m,Qa~n) -> PSII(Yz~p,P680~n,ChlD~n,Pheo~n,Qa~m)    k\n",
        "  quinone_qa_reduction:                                            PSII(Yz~n,P680~n,ChlD~n,Pheo~m,Qa~n) -> PSII(Yz~n,P680~n,ChlD~n,Pheo~n,Qa~m)    k\n",
        "  s_state_transition_0___0__0_with_Pheo_reduced:                   PSII(Yz~p,P680~n,ChlD~n,Pheo,S~0) -> PSII(Yz~n,P680~n,ChlD~n,Pheo,S~1)    k\n",
        "  s_state_transition_1___1__1_with_Pheo_reduced:                   PSII(Yz~p,P680~n,ChlD~n,Pheo,S~1) -> PSII(Yz~n,P680~n,ChlD~n,Pheo,S~2)    k\n",
        "  s_state_transition_2___2__2_with_Pheo_reduced:                   PSII(Yz~p,P680~n,ChlD~n,Pheo,S~2) -> PSII(Yz~n,P680~n,ChlD~n,Pheo,S~3)    k\n",
        "  s_state_transition_3___3__3_with_Pheo_reduced:                   PSII(Yz~p,P680~n,ChlD~n,Pheo,S~3) -> PSII(Yz~n,P680~n,ChlD~n,Pheo,S~4)    k\n",
        "  S4_to_S0_transition:                                             PSII(S~4) -> PSII(S~0)    k\n",
        "  qb_reduction_by_qa_1:                                            PSII(Qa~m,Qb~n) -> PSII(Qa~n,Qb~m)    k\n",
        "  qb_reduction_by_qa_2:                                            PSII(Qa~m,Qb~m) -> PSII(Qa~n,Qb~2m)    k\n",
        "  plastoquinone_release:                                           PSII(Qb~2m) -> PSII(Qb~empty)    k\n",
        "  plastoquinone_arrival:                                           PSII(Qb~empty) -> PSII(Qb~n)    k\n",
        "end reaction rules\n",
        "\n",
        "\n"
       ]
      }
     ],
     "prompt_number": 5
    },
    {
     "cell_type": "code",
     "collapsed": false,
     "input": [
      "m2 = dfs(m1)"
     ],
     "language": "python",
     "metadata": {},
     "outputs": [
      {
       "output_type": "stream",
       "stream": "stdout",
       "text": [
        "ce: stable_radical_pair_generation: PSII(Yz~n)\n",
        "ce: stable_radical_pair_generation: PSII(Pheo~m)"
       ]
      },
      {
       "output_type": "stream",
       "stream": "stdout",
       "text": [
        "\n",
        "ce: quinone_qa_reduction_preserving_P680_oxidized: PSII(Yz~n)"
       ]
      },
      {
       "output_type": "stream",
       "stream": "stdout",
       "text": [
        "\n",
        "CEE: 0 Yz; quinone_qa_reduction___n__n_preserving_Yz_oxidized"
       ]
      },
      {
       "output_type": "stream",
       "stream": "stdout",
       "text": [
        "\n",
        "ce: quinone_qa_reduction___n__n_preserving_Yz_oxidized: PSII(Yz~None)"
       ]
      },
      {
       "output_type": "stream",
       "stream": "stdout",
       "text": [
        "\n",
        "CEE: 0 P680; quinone_qa_reduction___n__n_preserving_Yz_oxidized__preserving_P680_oxidized"
       ]
      },
      {
       "output_type": "stream",
       "stream": "stdout",
       "text": [
        "\n",
        "ce: quinone_qa_reduction___n__n_preserving_Yz_oxidized__preserving_P680_oxidized: PSII(P680~None)"
       ]
      },
      {
       "output_type": "stream",
       "stream": "stdout",
       "text": [
        "\n",
        "ce: s_state_transition_0___0__0_with_Pheo_reduced: PSII(Pheo~None)"
       ]
      },
      {
       "output_type": "stream",
       "stream": "stdout",
       "text": [
        "\n",
        "ce: s_state_transition_1___1__1_with_Pheo_reduced: PSII(Pheo~None)"
       ]
      },
      {
       "output_type": "stream",
       "stream": "stdout",
       "text": [
        "\n",
        "ce: s_state_transition_2___2__2_with_Pheo_reduced: PSII(Pheo~None)"
       ]
      },
      {
       "output_type": "stream",
       "stream": "stdout",
       "text": [
        "\n",
        "ce: s_state_transition_3___3__3_with_Pheo_reduced: PSII(Pheo~None)"
       ]
      },
      {
       "output_type": "stream",
       "stream": "stdout",
       "text": [
        "\n",
        "ce: s_state_transition_0___0__0_with_Pheo_reduced: PSII(P680~n)"
       ]
      },
      {
       "output_type": "stream",
       "stream": "stdout",
       "text": [
        "\n",
        "ce: s_state_transition_1___1__1_with_Pheo_reduced: PSII(P680~n)"
       ]
      },
      {
       "output_type": "stream",
       "stream": "stdout",
       "text": [
        "\n",
        "ce: s_state_transition_2___2__2_with_Pheo_reduced: PSII(P680~n)"
       ]
      },
      {
       "output_type": "stream",
       "stream": "stdout",
       "text": [
        "\n",
        "ce: s_state_transition_3___3__3_with_Pheo_reduced: PSII(P680~n)"
       ]
      },
      {
       "output_type": "stream",
       "stream": "stdout",
       "text": [
        "\n"
       ]
      }
     ],
     "prompt_number": 6
    },
    {
     "cell_type": "code",
     "collapsed": false,
     "input": [
      "print to_bngl(m2)"
     ],
     "language": "python",
     "metadata": {},
     "outputs": [
      {
       "output_type": "stream",
       "stream": "stdout",
       "text": [
        "begin parameters\n",
        "  k      1.000000e+00\n",
        "  init   1.000000e+00\n",
        "end parameters\n",
        "\n",
        "begin molecule types\n",
        "  PSII(Ant~n~exc,Yz~n~p,P680~n~p,ChlD~n~exc~p,Pheo~n~m,Qa~n~m,S~0~1~2~3~4,Qb~n~m~2m~empty)\n",
        "end molecule types\n",
        "\n",
        "begin species\n",
        "  PSII(Ant~n,Yz~n,P680~n,ChlD~n,Pheo~n,Qa~n,S~0,Qb~n)   init\n",
        "end species\n",
        "begin reaction rules\n",
        "  energy_transfer:                                                               PSII(Ant~exc,ChlD~n) <-> PSII(Ant~n,ChlD~exc)    k, k\n",
        "  primary_charge_separation:                                                     PSII(Yz~n,P680~n,ChlD~exc,Pheo~n) -> PSII(Yz~n,P680~n,ChlD~p,Pheo~m)    k\n",
        "  stable_radical_pair_generation:                                                PSII(P680~n,ChlD~p) -> PSII(P680~p,ChlD~n)    k\n",
        "  tyrosine_oxidation:                                                            PSII(Yz~n,P680~p,ChlD~n,Pheo~n,Qa~m) -> PSII(Yz~p,P680~n,ChlD~n,Pheo~n,Qa~m)    k\n",
        "  tyrosine_oxidation_preserving_Pheo_reduced:                                    PSII(Yz~n,P680~p,ChlD~n,Pheo~m) -> PSII(Yz~p,P680~n,ChlD~n,Pheo~m)    k\n",
        "  quinone_qa_reduction___n__n_preserving_Yz_oxidized__preserving_P680_oxidized:  PSII(ChlD~n,Pheo~m,Qa~n) -> PSII(ChlD~n,Pheo~n,Qa~m)    k\n",
        "  S4_to_S0_transition:                                                           PSII(S~4) -> PSII(S~0)    k\n",
        "  qb_reduction_by_qa_1:                                                          PSII(Qa~m,Qb~n) -> PSII(Qa~n,Qb~m)    k\n",
        "  qb_reduction_by_qa_2:                                                          PSII(Qa~m,Qb~m) -> PSII(Qa~n,Qb~2m)    k\n",
        "  plastoquinone_release:                                                         PSII(Qb~2m) -> PSII(Qb~empty)    k\n",
        "  plastoquinone_arrival:                                                         PSII(Qb~empty) -> PSII(Qb~n)    k\n",
        "  deexcitation_antenna__excitation_antenna:                                      PSII(Ant~n) <-> PSII(Ant~exc)    k, k\n",
        "  deexcitation_chlor_donor__excitation_primary_chlorophyll_donor:                PSII(ChlD~exc) <-> PSII(ChlD~n)    k, k\n",
        "  s_state_transition_0___0__0_with_Pheo_reduced:                                 PSII(Yz~p,ChlD~n,S~0) -> PSII(Yz~n,ChlD~n,S~1)    k\n",
        "  s_state_transition_1___1__1_with_Pheo_reduced:                                 PSII(Yz~p,ChlD~n,S~1) -> PSII(Yz~n,ChlD~n,S~2)    k\n",
        "  s_state_transition_2___2__2_with_Pheo_reduced:                                 PSII(Yz~p,ChlD~n,S~2) -> PSII(Yz~n,ChlD~n,S~3)    k\n",
        "  s_state_transition_3___3__3_with_Pheo_reduced:                                 PSII(Yz~p,ChlD~n,S~3) -> PSII(Yz~n,ChlD~n,S~4)    k\n",
        "end reaction rules\n",
        "\n",
        "\n"
       ]
      }
     ],
     "prompt_number": 7
    },
    {
     "cell_type": "code",
     "collapsed": false,
     "input": [
      "len(m2.rules)"
     ],
     "language": "python",
     "metadata": {},
     "outputs": [
      {
       "metadata": {},
       "output_type": "pyout",
       "prompt_number": 10,
       "text": [
        "17"
       ]
      }
     ],
     "prompt_number": 10
    },
    {
     "cell_type": "code",
     "collapsed": false,
     "input": [
      "rn = reaction_network(m2)\n",
      "G = nx.MultiDiGraph()\n",
      "for (a, b , r), v in rn.items():\n",
      "    #print a, b, r, v\n",
      "    G.add_edge(a, b)\n",
      "nx.write_gml(G, 'lazar.gml')"
     ],
     "language": "python",
     "metadata": {},
     "outputs": [],
     "prompt_number": 8
    },
    {
     "cell_type": "code",
     "collapsed": false,
     "input": [],
     "language": "python",
     "metadata": {},
     "outputs": []
    }
   ],
   "metadata": {}
  }
 ]
}