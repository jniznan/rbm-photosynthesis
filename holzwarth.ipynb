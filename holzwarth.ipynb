{
 "metadata": {
  "name": "",
  "signature": "sha256:90d5517c2f9b94373098852bccf93bc76f33042323e0935c4ddaada9f652ce4c"
 },
 "nbformat": 3,
 "nbformat_minor": 0,
 "worksheets": [
  {
   "cells": [
    {
     "cell_type": "code",
     "collapsed": false,
     "input": [
      "from models.holzwarth.naive import model\n",
      "import matplotlib.pyplot as plt\n",
      "from pysb import bng\n",
      "import pysb\n",
      "from tools import dfs, rules, context_elimination, bng_simulate, reaction_network, to_bngl\n",
      "import pandas as pd\n",
      "import matplotlib\n",
      "import numpy as np\n",
      "import networkx as nx\n",
      "%matplotlib inline"
     ],
     "language": "python",
     "metadata": {},
     "outputs": [],
     "prompt_number": 19
    },
    {
     "cell_type": "markdown",
     "metadata": {},
     "source": [
      "Load the simulation data from e-photosynthesis.org"
     ]
    },
    {
     "cell_type": "code",
     "collapsed": false,
     "input": [
      "ephoto = pd.read_csv('models/holzwarth/original/sim.csv')"
     ],
     "language": "python",
     "metadata": {},
     "outputs": [],
     "prompt_number": 2
    },
    {
     "cell_type": "code",
     "collapsed": false,
     "input": [
      "times = ephoto['time'].values"
     ],
     "language": "python",
     "metadata": {},
     "outputs": [],
     "prompt_number": 3
    },
    {
     "cell_type": "code",
     "collapsed": false,
     "input": [
      "f_orig = ephoto['F(t)'].values"
     ],
     "language": "python",
     "metadata": {},
     "outputs": [],
     "prompt_number": 4
    },
    {
     "cell_type": "markdown",
     "metadata": {},
     "source": [
      "Simulate the rewritten model to get the fluorescence curve"
     ]
    },
    {
     "cell_type": "code",
     "collapsed": false,
     "input": [
      "def fluo(y):\n",
      "    kF = 67e6\n",
      "    return kF * (y['Ant_exc'] + y['ChlD1_exc'])[:len(times)]"
     ],
     "language": "python",
     "metadata": {},
     "outputs": [],
     "prompt_number": 5
    },
    {
     "cell_type": "code",
     "collapsed": false,
     "input": [
      "f = fluo(bng_simulate(model, times))"
     ],
     "language": "python",
     "metadata": {},
     "outputs": [],
     "prompt_number": 6
    },
    {
     "cell_type": "markdown",
     "metadata": {},
     "source": [
      "Visually compare fluorescence with the one from e-photosynthesis"
     ]
    },
    {
     "cell_type": "code",
     "collapsed": false,
     "input": [
      "plt.plot(times, f_orig)\n",
      "plt.plot(times, f)\n",
      "plt.xscale('log')"
     ],
     "language": "python",
     "metadata": {},
     "outputs": [
      {
       "metadata": {},
       "output_type": "display_data",
       "png": "[encoded data removed]",
       "text": [
        "<matplotlib.figure.Figure at 0x45a12d0>"
       ]
      }
     ],
     "prompt_number": 7
    },
    {
     "cell_type": "markdown",
     "metadata": {},
     "source": [
      "The curves do not match exactly because for some reason the simulation results fro e-photosynthesis are rounded up to hundreds.\n",
      "\n",
      "We write the first 10 entries for comparison."
     ]
    },
    {
     "cell_type": "code",
     "collapsed": false,
     "input": [
      "f_orig[:10]"
     ],
     "language": "python",
     "metadata": {},
     "outputs": [
      {
       "metadata": {},
       "output_type": "pyout",
       "prompt_number": 9,
       "text": [
        "array([ 67000000.,  66999800.,  66999400.,  66998600.,  66997200.,\n",
        "        66995000.,  66991700.,  66986900.,  66979900.,  66970100.])"
       ]
      }
     ],
     "prompt_number": 9
    },
    {
     "cell_type": "code",
     "collapsed": false,
     "input": [
      "f[:10]"
     ],
     "language": "python",
     "metadata": {},
     "outputs": [
      {
       "metadata": {},
       "output_type": "pyout",
       "prompt_number": 10,
       "text": [
        "array([ 67000000.        ,  66996444.43679977,  66995238.97850376,\n",
        "        66993615.94994976,  66991431.45581648,  66988493.77095512,\n",
        "        66984547.55714156,  66979255.65838788,  66972173.75995185,\n",
        "        66962720.58201773])"
       ]
      }
     ],
     "prompt_number": 10
    },
    {
     "cell_type": "markdown",
     "metadata": {},
     "source": [
      "### Original model"
     ]
    },
    {
     "cell_type": "markdown",
     "metadata": {},
     "source": [
      "Number of rules"
     ]
    },
    {
     "cell_type": "code",
     "collapsed": false,
     "input": [
      "len(model.rules)"
     ],
     "language": "python",
     "metadata": {},
     "outputs": [
      {
       "metadata": {},
       "output_type": "pyout",
       "prompt_number": 13,
       "text": [
        "8"
       ]
      }
     ],
     "prompt_number": 13
    },
    {
     "cell_type": "markdown",
     "metadata": {},
     "source": [
      "In BNGL:"
     ]
    },
    {
     "cell_type": "code",
     "collapsed": true,
     "input": [
      "print to_bngl(model)"
     ],
     "language": "python",
     "metadata": {},
     "outputs": [
      {
       "output_type": "stream",
       "stream": "stdout",
       "text": [
        "begin parameters\n",
        "  deex_heat    2.000000e+05\n",
        "  qa_oxi       2.400000e+09\n",
        "  ch_se        5.000000e+11\n",
        "  stab_gen     2.500000e+11\n",
        "  qa_red       4.800000e+09\n",
        "  extrans      1.920000e+10\n",
        "  extrans_re   2.500000e+10\n",
        "  deex_flu     6.700000e+07\n",
        "  ch_re        5.000000e+11\n",
        "  stab_deg     6.700000e+10\n",
        "  init         1.000000e+00\n",
        "end parameters\n",
        "\n",
        "begin molecule types\n",
        "  PSII(P680~n~p,Qa~n~m,PhD1~n~m,ac~n~exc,ChlD1~n~p~exc)\n",
        "end molecule types\n",
        "\n",
        "begin observables\n",
        "  Molecules Ant_exc     PSII(P680~n,Qa~n,PhD1~n,ac~exc,ChlD1~n)\n",
        "  Molecules ChlD1_exc   PSII(P680~n,Qa~n,PhD1~n,ac~n,ChlD1~exc)\n",
        "end observables\n",
        "\n",
        "begin species\n",
        "  PSII(P680~n,Qa~n,PhD1~n,ac~exc,ChlD1~n)   init\n",
        "end species\n",
        "begin reaction rules\n",
        "  deexcitation_antenna_fluorescence:        PSII(P680~n,Qa~n,PhD1~n,ac~exc,ChlD1~n) -> PSII(P680~n,Qa~n,PhD1~n,ac~n,ChlD1~n)    deex_flu\n",
        "  deexcitation_antenna_heat:                PSII(P680~n,Qa~n,PhD1~n,ac~exc,ChlD1~n) -> PSII(P680~n,Qa~n,PhD1~n,ac~n,ChlD1~n)    deex_heat\n",
        "  deexcitation_ChlD1_fluorescence:          PSII(P680~n,Qa~n,PhD1~n,ac~n,ChlD1~exc) -> PSII(P680~n,Qa~n,PhD1~n,ac~n,ChlD1~n)    deex_flu\n",
        "  deexcitation_ChlD1_heat:                  PSII(P680~n,Qa~n,PhD1~n,ac~n,ChlD1~exc) -> PSII(P680~n,Qa~n,PhD1~n,ac~n,ChlD1~n)    deex_heat\n",
        "  excitation_transfer:                      PSII(P680~n,Qa~n,PhD1~n,ac~exc,ChlD1~n) <-> PSII(P680~n,Qa~n,PhD1~n,ac~n,ChlD1~exc)    extrans, extrans_re\n",
        "  primary_charge_separation_recombination:  PSII(P680~n,Qa~n,PhD1~n,ac~n,ChlD1~exc) <-> PSII(P680~n,Qa~n,PhD1~m,ac~n,ChlD1~p)    ch_se, ch_re\n",
        "  stable_pair_generation_degeneration:      PSII(P680~n,Qa~n,PhD1~m,ac~n,ChlD1~p) <-> PSII(P680~p,Qa~n,PhD1~m,ac~n,ChlD1~n)    stab_gen, stab_deg\n",
        "  quinone_qa_reduction_oxidation:           PSII(P680~p,Qa~n,PhD1~m,ac~n,ChlD1~n) <-> PSII(P680~p,Qa~m,PhD1~n,ac~n,ChlD1~n)    qa_red, qa_oxi\n",
        "end reaction rules\n",
        "\n",
        "\n"
       ]
      }
     ],
     "prompt_number": 15
    },
    {
     "cell_type": "markdown",
     "metadata": {},
     "source": [
      "### Simplified model"
     ]
    },
    {
     "cell_type": "code",
     "collapsed": false,
     "input": [
      "m1 = dfs(model)"
     ],
     "language": "python",
     "metadata": {},
     "outputs": [
      {
       "output_type": "stream",
       "stream": "stdout",
       "text": [
        "ce: deexcitation_antenna_fluorescence: PSII(Qa~n)\n",
        "ce: deexcitation_antenna_fluorescence: PSII(PhD1~n)"
       ]
      },
      {
       "output_type": "stream",
       "stream": "stdout",
       "text": [
        "\n",
        "ce: deexcitation_antenna_fluorescence: PSII(P680~n)"
       ]
      },
      {
       "output_type": "stream",
       "stream": "stdout",
       "text": [
        "\n",
        "ce: deexcitation_antenna_fluorescence: PSII(ChlD1~n)"
       ]
      },
      {
       "output_type": "stream",
       "stream": "stdout",
       "text": [
        "\n",
        "ce: deexcitation_antenna_heat: PSII(Qa~n)"
       ]
      },
      {
       "output_type": "stream",
       "stream": "stdout",
       "text": [
        "\n",
        "ce: deexcitation_antenna_heat: PSII(PhD1~n)"
       ]
      },
      {
       "output_type": "stream",
       "stream": "stdout",
       "text": [
        "\n",
        "ce: deexcitation_antenna_heat: PSII(P680~n)"
       ]
      },
      {
       "output_type": "stream",
       "stream": "stdout",
       "text": [
        "\n",
        "ce: deexcitation_antenna_heat: PSII(ChlD1~n)"
       ]
      },
      {
       "output_type": "stream",
       "stream": "stdout",
       "text": [
        "\n",
        "ce: deexcitation_ChlD1_fluorescence: PSII(Qa~n)"
       ]
      },
      {
       "output_type": "stream",
       "stream": "stdout",
       "text": [
        "\n",
        "ce: deexcitation_ChlD1_fluorescence: PSII(PhD1~n)"
       ]
      },
      {
       "output_type": "stream",
       "stream": "stdout",
       "text": [
        "\n",
        "ce: deexcitation_ChlD1_fluorescence: PSII(ac~n)"
       ]
      },
      {
       "output_type": "stream",
       "stream": "stdout",
       "text": [
        "\n",
        "ce: deexcitation_ChlD1_fluorescence: PSII(P680~n)"
       ]
      },
      {
       "output_type": "stream",
       "stream": "stdout",
       "text": [
        "\n",
        "ce: deexcitation_ChlD1_heat: PSII(Qa~n)"
       ]
      },
      {
       "output_type": "stream",
       "stream": "stdout",
       "text": [
        "\n",
        "ce: deexcitation_ChlD1_heat: PSII(PhD1~n)"
       ]
      },
      {
       "output_type": "stream",
       "stream": "stdout",
       "text": [
        "\n",
        "ce: deexcitation_ChlD1_heat: PSII(ac~n)"
       ]
      },
      {
       "output_type": "stream",
       "stream": "stdout",
       "text": [
        "\n",
        "ce: deexcitation_ChlD1_heat: PSII(P680~n)"
       ]
      },
      {
       "output_type": "stream",
       "stream": "stdout",
       "text": [
        "\n",
        "ce: excitation_transfer: PSII(Qa~n)"
       ]
      },
      {
       "output_type": "stream",
       "stream": "stdout",
       "text": [
        "\n",
        "ce: excitation_transfer: PSII(PhD1~n)"
       ]
      },
      {
       "output_type": "stream",
       "stream": "stdout",
       "text": [
        "\n",
        "ce: excitation_transfer: PSII(P680~n)"
       ]
      },
      {
       "output_type": "stream",
       "stream": "stdout",
       "text": [
        "\n",
        "ce: primary_charge_separation_recombination: PSII(Qa~n)"
       ]
      },
      {
       "output_type": "stream",
       "stream": "stdout",
       "text": [
        "\n",
        "ce: primary_charge_separation_recombination: PSII(ac~n)"
       ]
      },
      {
       "output_type": "stream",
       "stream": "stdout",
       "text": [
        "\n",
        "ce: primary_charge_separation_recombination: PSII(P680~n)"
       ]
      },
      {
       "output_type": "stream",
       "stream": "stdout",
       "text": [
        "\n",
        "ce: stable_pair_generation_degeneration: PSII(Qa~n)"
       ]
      },
      {
       "output_type": "stream",
       "stream": "stdout",
       "text": [
        "\n",
        "ce: stable_pair_generation_degeneration: PSII(ac~n)"
       ]
      },
      {
       "output_type": "stream",
       "stream": "stdout",
       "text": [
        "\n",
        "ce: quinone_qa_reduction_oxidation: PSII(ac~n)"
       ]
      },
      {
       "output_type": "stream",
       "stream": "stdout",
       "text": [
        "\n",
        "ce: quinone_qa_reduction_oxidation: PSII(P680~p)"
       ]
      },
      {
       "output_type": "stream",
       "stream": "stdout",
       "text": [
        "\n"
       ]
      }
     ],
     "prompt_number": 16
    },
    {
     "cell_type": "markdown",
     "metadata": {},
     "source": [
      "The number of rules did not decrease"
     ]
    },
    {
     "cell_type": "code",
     "collapsed": false,
     "input": [
      "len(m1.rules)"
     ],
     "language": "python",
     "metadata": {},
     "outputs": [
      {
       "metadata": {},
       "output_type": "pyout",
       "prompt_number": 17,
       "text": [
        "8"
       ]
      }
     ],
     "prompt_number": 17
    },
    {
     "cell_type": "markdown",
     "metadata": {},
     "source": [
      "But the model is much more readable"
     ]
    },
    {
     "cell_type": "code",
     "collapsed": false,
     "input": [
      "print to_bngl(m1)"
     ],
     "language": "python",
     "metadata": {},
     "outputs": [
      {
       "output_type": "stream",
       "stream": "stdout",
       "text": [
        "begin parameters\n",
        "  deex_heat    2.000000e+05\n",
        "  qa_oxi       2.400000e+09\n",
        "  ch_se        5.000000e+11\n",
        "  stab_gen     2.500000e+11\n",
        "  qa_red       4.800000e+09\n",
        "  extrans      1.920000e+10\n",
        "  extrans_re   2.500000e+10\n",
        "  deex_flu     6.700000e+07\n",
        "  ch_re        5.000000e+11\n",
        "  stab_deg     6.700000e+10\n",
        "  init         1.000000e+00\n",
        "end parameters\n",
        "\n",
        "begin molecule types\n",
        "  PSII(P680~n~p,Qa~n~m,PhD1~n~m,ac~n~exc,ChlD1~n~p~exc)\n",
        "end molecule types\n",
        "\n",
        "begin observables\n",
        "  Molecules Ant_exc     PSII(P680~n,Qa~n,PhD1~n,ac~exc,ChlD1~n)\n",
        "  Molecules ChlD1_exc   PSII(P680~n,Qa~n,PhD1~n,ac~n,ChlD1~exc)\n",
        "end observables\n",
        "\n",
        "begin species\n",
        "  PSII(P680~n,Qa~n,PhD1~n,ac~exc,ChlD1~n)   init\n",
        "end species\n",
        "begin reaction rules\n",
        "  deexcitation_antenna_fluorescence:        PSII(ac~exc) -> PSII(ac~n)    deex_flu\n",
        "  deexcitation_antenna_heat:                PSII(ac~exc) -> PSII(ac~n)    deex_heat\n",
        "  deexcitation_ChlD1_fluorescence:          PSII(ChlD1~exc) -> PSII(ChlD1~n)    deex_flu\n",
        "  deexcitation_ChlD1_heat:                  PSII(ChlD1~exc) -> PSII(ChlD1~n)    deex_heat\n",
        "  excitation_transfer:                      PSII(ac~exc,ChlD1~n) <-> PSII(ac~n,ChlD1~exc)    extrans, extrans_re\n",
        "  primary_charge_separation_recombination:  PSII(PhD1~n,ChlD1~exc) <-> PSII(PhD1~m,ChlD1~p)    ch_se, ch_re\n",
        "  stable_pair_generation_degeneration:      PSII(P680~n,PhD1~m,ChlD1~p) <-> PSII(P680~p,PhD1~m,ChlD1~n)    stab_gen, stab_deg\n",
        "  quinone_qa_reduction_oxidation:           PSII(Qa~n,PhD1~m,ChlD1~n) <-> PSII(Qa~m,PhD1~n,ChlD1~n)    qa_red, qa_oxi\n",
        "end reaction rules\n",
        "\n",
        "\n"
       ]
      }
     ],
     "prompt_number": 18
    },
    {
     "cell_type": "markdown",
     "metadata": {},
     "source": [
      "Run some stochastic simualtions"
     ]
    },
    {
     "cell_type": "code",
     "collapsed": false,
     "input": [
      "f_ssas = []\n",
      "for _ in range(1000):\n",
      "    f_ssas.append(fluo(bng_simulate(model, times, 'ssa')))"
     ],
     "language": "python",
     "metadata": {},
     "outputs": [],
     "prompt_number": 18
    },
    {
     "cell_type": "code",
     "collapsed": false,
     "input": [
      "f_ssa = map(np.mean, zip(*f_ssas))"
     ],
     "language": "python",
     "metadata": {},
     "outputs": [],
     "prompt_number": 20
    },
    {
     "cell_type": "markdown",
     "metadata": {},
     "source": [
      "We can notice that ```PhD1~m``` did not get removed from ```stable_pair_generation_degeneration``` and ```ChlD1~n``` did not get removed from ```quinone_qa_reduction_oxidation```. \n",
      "Let us investigate why by removing them."
     ]
    },
    {
     "cell_type": "code",
     "collapsed": false,
     "input": [
      "new_models = list(context_elimination(m1))\n",
      "new_models"
     ],
     "language": "python",
     "metadata": {},
     "outputs": [
      {
       "metadata": {},
       "output_type": "pyout",
       "prompt_number": 13,
       "text": [
        "[('ce: stable_pair_generation_degeneration: PSII(PhD1~m)',\n",
        "  <Model 'None' (monomers: 1, rules: 8, parameters: 11, expressions: 0, compartments: 0) at 0x4f47e50>),\n",
        " ('ce: quinone_qa_reduction_oxidation: PSII(ChlD1~n)',\n",
        "  <Model 'None' (monomers: 1, rules: 8, parameters: 11, expressions: 0, compartments: 0) at 0x4f47610>)]"
       ]
      }
     ],
     "prompt_number": 13
    },
    {
     "cell_type": "code",
     "collapsed": false,
     "input": [
      "new_f = [fluo(bng_simulate(m_, times)) for _, m_ in new_models]"
     ],
     "language": "python",
     "metadata": {},
     "outputs": [],
     "prompt_number": 14
    },
    {
     "cell_type": "code",
     "collapsed": false,
     "input": [
      "matplotlib.rc('font', size=12)\n",
      "plt.figure(figsize=(17, 5))\n",
      "plt.subplot(121)\n",
      "plt.plot(times, f, linewidth=2, label='reduced and original model')\n",
      "plt.plot(times, new_f[0], label='removed PSII(PhD1~m) from \\nstable_pair_gen_deg')\n",
      "plt.plot(times, new_f[1], label='removed PSII(ChlD1~n) from \\nquinone_qa_red_ox')\n",
      "plt.legend()\n",
      "plt.xscale('log')\n",
      "plt.xlabel('time')\n",
      "plt.ylabel('fluorescence')\n",
      "plt.subplot(122)\n",
      "plt.plot(times, f_ssa, linewidth=2, label='average fluorescence from \\n1000 stochastic simulations')\n",
      "plt.legend()\n",
      "plt.xscale('log')\n",
      "plt.ylabel('fluorescence')\n",
      "plt.xlabel('time')\n",
      "#plt.savefig('holz_rbm_sim.pdf', bbox_inches='tight')"
     ],
     "language": "python",
     "metadata": {},
     "outputs": [
      {
       "metadata": {},
       "output_type": "display_data",
       "png": "[encoded data removed]",
       "text": [
        "<matplotlib.figure.Figure at 0x13837190>"
       ]
      }
     ],
     "prompt_number": 39
    },
    {
     "cell_type": "markdown",
     "metadata": {},
     "source": [
      "Construct reaction networks"
     ]
    },
    {
     "cell_type": "code",
     "collapsed": false,
     "input": [
      "rn = reaction_network(m1)\n",
      "G = nx.MultiDiGraph()\n",
      "for (a, b , r), v in rn.items():\n",
      "    #print a, b, r, v\n",
      "    G.add_edge(a, b)\n",
      "nx.write_gml(G, 'holzwarth_rn.gml')"
     ],
     "language": "python",
     "metadata": {},
     "outputs": [],
     "prompt_number": 64
    },
    {
     "cell_type": "code",
     "collapsed": false,
     "input": [
      "rn = reaction_network(new_models[0][1])\n",
      "G = nx.MultiDiGraph()\n",
      "for (a, b , r), v in rn.items():\n",
      "    #print a, b, r, v\n",
      "    G.add_edge(a, b)\n",
      "nx.write_gml(G, 'holzwarth_rn_no_phd1m.gml')"
     ],
     "language": "python",
     "metadata": {},
     "outputs": [],
     "prompt_number": 65
    },
    {
     "cell_type": "code",
     "collapsed": false,
     "input": [],
     "language": "python",
     "metadata": {},
     "outputs": []
    }
   ],
   "metadata": {}
  }
 ]
}