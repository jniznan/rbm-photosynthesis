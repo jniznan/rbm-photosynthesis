{
 "metadata": {
  "name": "",
  "signature": "sha256:52871b01d0db7be2196c3c4659e81e334a465340ff55febeb9128564ea62f6af"
 },
 "nbformat": 3,
 "nbformat_minor": 0,
 "worksheets": [
  {
   "cells": [
    {
     "cell_type": "code",
     "collapsed": false,
     "input": [
      "from pysb import *\n",
      "from pysb import bng\n",
      "import networkx as nx\n",
      "from tools import reaction_network"
     ],
     "language": "python",
     "metadata": {},
     "outputs": [],
     "prompt_number": 5
    },
    {
     "cell_type": "markdown",
     "metadata": {},
     "source": [
      "Model specification:"
     ]
    },
    {
     "cell_type": "code",
     "collapsed": false,
     "input": [
      "Model()\n",
      "\n",
      "Monomer('S', ['s', 'a', 'b'])\n",
      "Monomer('A', ['s'])\n",
      "Monomer('B', ['s'])\n",
      "\n",
      "params = {'kpa': 0.1, 'kma': 0.1, \n",
      "          'kpb': 0.1, 'kmb': 0.1,\n",
      "          'kps': 0.1, 'kms': 0.1,\n",
      "          'S_init': 1e5, 'A_init': 1e5, 'B_init': 1e5}\n",
      "for p, v in params.items():\n",
      "    Parameter(p, v)\n",
      "\n",
      "Initial(S(s=None, a=None, b=None), S_init)\n",
      "Initial(A(s=None), A_init)\n",
      "Initial(B(s=None), B_init)\n",
      "\n",
      "Rule('s_a', S(a=None) + A(s=None) <> S(a=1) % A(s=1), kpa, kma)\n",
      "Rule('s_b', S(b=None) + B(s=None) <> S(b=1) % B(s=1), kpb, kmb)\n",
      "Rule('s_s', S(s=None) + S(s=None) <> S(s=1) % S(s=1), kps, kms)"
     ],
     "language": "python",
     "metadata": {},
     "outputs": [
      {
       "metadata": {},
       "output_type": "pyout",
       "prompt_number": 2,
       "text": [
        "Rule('s_s', S(s=None) + S(s=None) <> S(s=1) % S(s=1), kps, kms)"
       ]
      }
     ],
     "prompt_number": 2
    },
    {
     "cell_type": "markdown",
     "metadata": {},
     "source": [
      "Generate the reaction network:"
     ]
    },
    {
     "cell_type": "code",
     "collapsed": false,
     "input": [
      "rn = reaction_network(model)\n",
      "G = nx.MultiDiGraph()\n",
      "for (a, b , r), v in rn.items():\n",
      "    #print a, b, r, v\n",
      "    G.add_edge(a, b)\n",
      "nx.write_gml(G, 'example_rn.gml')"
     ],
     "language": "python",
     "metadata": {},
     "outputs": [],
     "prompt_number": 3
    },
    {
     "cell_type": "code",
     "collapsed": false,
     "input": [
      "bng.generate_equations(model)"
     ],
     "language": "python",
     "metadata": {},
     "outputs": [],
     "prompt_number": 6
    },
    {
     "cell_type": "code",
     "collapsed": false,
     "input": [
      "model.species"
     ],
     "language": "python",
     "metadata": {},
     "outputs": [
      {
       "metadata": {},
       "output_type": "pyout",
       "prompt_number": 7,
       "text": [
        "[S(s=None, a=None, b=None),\n",
        " A(s=None),\n",
        " B(s=None),\n",
        " A(s=1) % S(s=None, a=1, b=None),\n",
        " B(s=1) % S(s=None, a=None, b=1),\n",
        " S(s=1, a=None, b=None) % S(s=1, a=None, b=None),\n",
        " A(s=1) % B(s=2) % S(s=None, a=1, b=2),\n",
        " A(s=1) % S(s=2, a=1, b=None) % S(s=2, a=None, b=None),\n",
        " B(s=1) % S(s=2, a=None, b=1) % S(s=2, a=None, b=None),\n",
        " A(s=1) % A(s=2) % S(s=3, a=1, b=None) % S(s=3, a=2, b=None),\n",
        " A(s=1) % B(s=2) % S(s=3, a=1, b=None) % S(s=3, a=None, b=2),\n",
        " B(s=1) % B(s=2) % S(s=3, a=None, b=1) % S(s=3, a=None, b=2),\n",
        " A(s=1) % B(s=2) % S(s=3, a=1, b=2) % S(s=3, a=None, b=None),\n",
        " A(s=1) % A(s=2) % B(s=3) % S(s=4, a=2, b=3) % S(s=4, a=1, b=None),\n",
        " A(s=1) % B(s=2) % B(s=3) % S(s=4, a=1, b=2) % S(s=4, a=None, b=3),\n",
        " A(s=1) % A(s=2) % B(s=3) % B(s=4) % S(s=5, a=1, b=3) % S(s=5, a=2, b=4)]"
       ]
      }
     ],
     "prompt_number": 7
    },
    {
     "cell_type": "code",
     "collapsed": false,
     "input": [
      "len(model.odes)"
     ],
     "language": "python",
     "metadata": {},
     "outputs": [
      {
       "metadata": {},
       "output_type": "pyout",
       "prompt_number": 8,
       "text": [
        "16"
       ]
      }
     ],
     "prompt_number": 8
    }
   ],
   "metadata": {}
  }
 ]
}