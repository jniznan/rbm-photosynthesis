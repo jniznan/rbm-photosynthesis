{
 "metadata": {
  "name": "",
  "signature": "sha256:350ef3ceb82e0e55fc6df4634913b08c1c48463542290344ac48721598aac4c6"
 },
 "nbformat": 3,
 "nbformat_minor": 0,
 "worksheets": [
  {
   "cells": [
    {
     "cell_type": "code",
     "collapsed": false,
     "input": [
      "from models.holzwarth.naive import model\n",
      "from pysb import bng\n",
      "import numpy as np\n",
      "import matplotlib.pyplot as plt\n",
      "from pysb import *\n",
      "%matplotlib inline"
     ],
     "language": "python",
     "metadata": {},
     "outputs": [
      {
       "output_type": "stream",
       "stream": "stderr",
       "text": [
        "/usr/lib64/python2.7/site-packages/mpl_toolkits/__init__.py:2: UserWarning: Module argparse was already imported from /usr/lib64/python2.7/argparse.pyc, but /usr/lib/python2.7/site-packages is being added to sys.path\n",
        "  __import__('pkg_resources').declare_namespace(__name__)\n"
       ]
      }
     ],
     "prompt_number": 1
    },
    {
     "cell_type": "code",
     "collapsed": false,
     "input": [
      "def search_model(model):\n",
      "    for i, rule in enumerate(model.rules):\n",
      "        rexp = rule.rule_expression\n",
      "        react = rexp.reactant_pattern.complex_patterns\n",
      "        if len(react) != 1:\n",
      "            raise ValueError(\"Can't handle this yet - too many reactants\")\n",
      "        prod = rexp.product_pattern.complex_patterns\n",
      "        if len(prod) != 1:\n",
      "            raise ValueError(\"Can't handle this yet - too many products\")\n",
      "        lh, rh = react[0].monomer_patterns[0], prod[0].monomer_patterns[0]\n",
      "        if lh.monomer != rh.monomer:\n",
      "            raise ValueError(\"LHS and RHS do not match\")\n",
      "        mon = lh.monomer\n",
      "        if set(lh.site_conditions.keys()) != set(rh.site_conditions.keys()):\n",
      "            raise ValueError(\"LHS and RHS site conditions do not match\")\n",
      "        for site in lh.site_conditions.keys():\n",
      "            if lh.site_conditions[site] == rh.site_conditions[site]:\n",
      "                # site does not change --> is context, try to remove it\n",
      "                lh_ = mon(**{k: v for k, v in lh.site_conditions.items() if k != site})\n",
      "                rh_ = mon(**{k: v for k, v in rh.site_conditions.items() if k != site})\n",
      "                rexp_ = lh_ <> rh_ if rexp.is_reversible else lh_ >> rh_\n",
      "                m = Model(_export=False)\n",
      "                r = Rule(rule.name, rexp_, rule.rate_forward, rule.rate_reverse, _export=False)\n",
      "                for comp in model.all_components():\n",
      "                    if comp != rule:\n",
      "                        m.add_component(comp)\n",
      "                for ini in model.initial_conditions:\n",
      "                    m.initial(*ini)\n",
      "                m.add_component(r)\n",
      "                yield '%s: %s(%s~%s)' % (rule.name, mon.name, site, lh.site_conditions[site]), m"
     ],
     "language": "python",
     "metadata": {},
     "outputs": [],
     "prompt_number": 2
    },
    {
     "cell_type": "code",
     "collapsed": false,
     "input": [
      "def parse_reaction_network(rn):\n",
      "    # ignore parameters for now\n",
      "    lines = rn.split('\\n')\n",
      "    species = lines[lines.index('begin species') + 1 : lines.index('end species')]\n",
      "    species_map = {}\n",
      "    for s in species:\n",
      "        sid, sp, _ = s.split()\n",
      "        species_map[sid] = sp\n",
      "    edges = set()\n",
      "    reactions = lines[lines.index('begin reactions') + 1 : lines.index('end reactions')]\n",
      "    for r in reactions:\n",
      "        splits =  r.split()\n",
      "        left = species_map[splits[1]]\n",
      "        right = species_map[splits[2]]\n",
      "        edges.add((left, right))\n",
      "    return edges"
     ],
     "language": "python",
     "metadata": {},
     "outputs": [],
     "prompt_number": 3
    },
    {
     "cell_type": "code",
     "collapsed": false,
     "input": [
      "def rules(model):\n",
      "    return sorted([r for r in model.rules], key=lambda r: r.name)"
     ],
     "language": "python",
     "metadata": {},
     "outputs": [],
     "prompt_number": 4
    },
    {
     "cell_type": "code",
     "collapsed": false,
     "input": [
      "def bfs(model):\n",
      "    # WARNING: takes looong time, finds all fix points\n",
      "    rn1 = parse_reaction_network(bng.generate_network(model))\n",
      "\n",
      "    searched = set()\n",
      "    fringe = [model]\n",
      "    edges = []\n",
      "\n",
      "    while fringe:\n",
      "        m1 = fringe.pop(0)\n",
      "        mr1 = repr(rules(m1))\n",
      "        searched.add(mr1)\n",
      "        for edge, m2 in search_model(m1):\n",
      "            rn2 = parse_reaction_network(bng.generate_network(m2))\n",
      "            if rn1 == rn2:\n",
      "                mr2 = repr(rules(m2))\n",
      "                edges.append((mr1, edge, mr2))\n",
      "                if mr2 not in searched:\n",
      "                    fringe.append(m2)"
     ],
     "language": "python",
     "metadata": {},
     "outputs": [],
     "prompt_number": 5
    },
    {
     "cell_type": "code",
     "collapsed": false,
     "input": [
      "def dfs(model):\n",
      "    # fast, finds one fix point\n",
      "    rn1 = parse_reaction_network(bng.generate_network(model))\n",
      "    node = model\n",
      "    while node:\n",
      "        m1 = node\n",
      "        node = None\n",
      "        for edge, m2 in search_model(m1):\n",
      "            rn2 = parse_reaction_network(bng.generate_network(m2))\n",
      "            if rn1 == rn2:\n",
      "                node = m2\n",
      "                break\n",
      "    return m1"
     ],
     "language": "python",
     "metadata": {},
     "outputs": [],
     "prompt_number": 6
    },
    {
     "cell_type": "code",
     "collapsed": false,
     "input": [
      "m1 = dfs(model)"
     ],
     "language": "python",
     "metadata": {},
     "outputs": [],
     "prompt_number": 7
    },
    {
     "cell_type": "code",
     "collapsed": false,
     "input": [
      "rules(m1)"
     ],
     "language": "python",
     "metadata": {},
     "outputs": [
      {
       "metadata": {},
       "output_type": "pyout",
       "prompt_number": 8,
       "text": [
        "[Rule('deexcitation_ChlD1_fluorescence', PSII(ChlD1='exc') >> PSII(ChlD1='n'), deex_flu),\n",
        " Rule('deexcitation_ChlD1_heat', PSII(ChlD1='exc') >> PSII(ChlD1='n'), deex_heat),\n",
        " Rule('deexcitation_antenna_fluorescence', PSII(ac='exc') >> PSII(ac='n'), deex_flu),\n",
        " Rule('deexcitation_antenna_heat', PSII(ac='exc') >> PSII(ac='n'), deex_heat),\n",
        " Rule('excitation_transfer', PSII(ac='exc', ChlD1='n') <> PSII(ac='n', ChlD1='exc'), extrans, extrans_re),\n",
        " Rule('primary_charge_separation_recombination', PSII(PhD1='n', ChlD1='exc') <> PSII(PhD1='m', ChlD1='p'), ch_se, ch_re),\n",
        " Rule('quinone_qa_reduction_oxidation', PSII(Qa='n', PhD1='m', ChlD1='n') <> PSII(Qa='m', PhD1='n', ChlD1='n'), qa_red, qa_oxi),\n",
        " Rule('stable_pair_generation_degeneration', PSII(P680='n', PhD1='m', ChlD1='p') <> PSII(P680='p', PhD1='m', ChlD1='n'), stab_gen, stab_deg)]"
       ]
      }
     ],
     "prompt_number": 8
    },
    {
     "cell_type": "code",
     "collapsed": false,
     "input": [
      "rules(model)"
     ],
     "language": "python",
     "metadata": {},
     "outputs": [
      {
       "metadata": {},
       "output_type": "pyout",
       "prompt_number": 9,
       "text": [
        "[Rule('deexcitation_ChlD1_fluorescence', PSII(P680='n', Qa='n', PhD1='n', ac='n', ChlD1='exc') >> PSII(P680='n', Qa='n', PhD1='n', ac='n', ChlD1='n'), deex_flu),\n",
        " Rule('deexcitation_ChlD1_heat', PSII(P680='n', Qa='n', PhD1='n', ac='n', ChlD1='exc') >> PSII(P680='n', Qa='n', PhD1='n', ac='n', ChlD1='n'), deex_heat),\n",
        " Rule('deexcitation_antenna_fluorescence', PSII(P680='n', Qa='n', PhD1='n', ac='exc', ChlD1='n') >> PSII(P680='n', Qa='n', PhD1='n', ac='n', ChlD1='n'), deex_flu),\n",
        " Rule('deexcitation_antenna_heat', PSII(P680='n', Qa='n', PhD1='n', ac='exc', ChlD1='n') >> PSII(P680='n', Qa='n', PhD1='n', ac='n', ChlD1='n'), deex_heat),\n",
        " Rule('excitation_transfer', PSII(P680='n', Qa='n', PhD1='n', ac='exc', ChlD1='n') <> PSII(P680='n', Qa='n', PhD1='n', ac='n', ChlD1='exc'), extrans, extrans_re),\n",
        " Rule('primary_charge_separation_recombination', PSII(P680='n', Qa='n', PhD1='n', ac='n', ChlD1='exc') <> PSII(P680='n', Qa='n', PhD1='m', ac='n', ChlD1='p'), ch_se, ch_re),\n",
        " Rule('quinone_qa_reduction_oxidation', PSII(P680='p', Qa='n', PhD1='m', ac='n', ChlD1='n') <> PSII(P680='p', Qa='m', PhD1='n', ac='n', ChlD1='n'), qa_red, qa_oxi),\n",
        " Rule('stable_pair_generation_degeneration', PSII(P680='n', Qa='n', PhD1='m', ac='n', ChlD1='p') <> PSII(P680='p', Qa='n', PhD1='m', ac='n', ChlD1='n'), stab_gen, stab_deg)]"
       ]
      }
     ],
     "prompt_number": 9
    },
    {
     "cell_type": "code",
     "collapsed": false,
     "input": [],
     "language": "python",
     "metadata": {},
     "outputs": [],
     "prompt_number": 9
    }
   ],
   "metadata": {}
  }
 ]
}