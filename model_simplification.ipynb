{
 "metadata": {
  "name": "",
  "signature": "sha256:b0a4c1402b98e8c4cb9f3e8474199e4e4519c35e49759534a2829ff2b4ba7814"
 },
 "nbformat": 3,
 "nbformat_minor": 0,
 "worksheets": [
  {
   "cells": [
    {
     "cell_type": "code",
     "collapsed": false,
     "input": [
      "from models.holzwarth.naive import model\n",
      "from tools import dfs, rules\n",
      "from pysb import bng"
     ],
     "language": "python",
     "metadata": {},
     "outputs": [
      {
       "output_type": "stream",
       "stream": "stderr",
       "text": [
        "/usr/lib64/python2.7/site-packages/mpl_toolkits/__init__.py:2: UserWarning: Module argparse was already imported from /usr/lib64/python2.7/argparse.pyc, but /usr/lib/python2.7/site-packages is being added to sys.path\n",
        "  __import__('pkg_resources').declare_namespace(__name__)\n"
       ]
      }
     ],
     "prompt_number": 1
    },
    {
     "cell_type": "markdown",
     "metadata": {},
     "source": [
      "## Original model"
     ]
    },
    {
     "cell_type": "code",
     "collapsed": false,
     "input": [
      "rules(model)"
     ],
     "language": "python",
     "metadata": {},
     "outputs": [
      {
       "metadata": {},
       "output_type": "pyout",
       "prompt_number": 2,
       "text": [
        "[Rule('deexcitation_ChlD1_fluorescence', PSII(P680='n', Qa='n', PhD1='n', ac='n', ChlD1='exc') >> PSII(P680='n', Qa='n', PhD1='n', ac='n', ChlD1='n'), deex_flu),\n",
        " Rule('deexcitation_ChlD1_heat', PSII(P680='n', Qa='n', PhD1='n', ac='n', ChlD1='exc') >> PSII(P680='n', Qa='n', PhD1='n', ac='n', ChlD1='n'), deex_heat),\n",
        " Rule('deexcitation_antenna_fluorescence', PSII(P680='n', Qa='n', PhD1='n', ac='exc', ChlD1='n') >> PSII(P680='n', Qa='n', PhD1='n', ac='n', ChlD1='n'), deex_flu),\n",
        " Rule('deexcitation_antenna_heat', PSII(P680='n', Qa='n', PhD1='n', ac='exc', ChlD1='n') >> PSII(P680='n', Qa='n', PhD1='n', ac='n', ChlD1='n'), deex_heat),\n",
        " Rule('excitation_transfer', PSII(P680='n', Qa='n', PhD1='n', ac='exc', ChlD1='n') <> PSII(P680='n', Qa='n', PhD1='n', ac='n', ChlD1='exc'), extrans, extrans_re),\n",
        " Rule('primary_charge_separation_recombination', PSII(P680='n', Qa='n', PhD1='n', ac='n', ChlD1='exc') <> PSII(P680='n', Qa='n', PhD1='m', ac='n', ChlD1='p'), ch_se, ch_re),\n",
        " Rule('quinone_qa_reduction_oxidation', PSII(P680='p', Qa='n', PhD1='m', ac='n', ChlD1='n') <> PSII(P680='p', Qa='m', PhD1='n', ac='n', ChlD1='n'), qa_red, qa_oxi),\n",
        " Rule('stable_pair_generation_degeneration', PSII(P680='n', Qa='n', PhD1='m', ac='n', ChlD1='p') <> PSII(P680='p', Qa='n', PhD1='m', ac='n', ChlD1='n'), stab_gen, stab_deg)]"
       ]
      }
     ],
     "prompt_number": 2
    },
    {
     "cell_type": "markdown",
     "metadata": {},
     "source": [
      "## Simplified model"
     ]
    },
    {
     "cell_type": "code",
     "collapsed": false,
     "input": [
      "m1 = dfs(model)"
     ],
     "language": "python",
     "metadata": {},
     "outputs": [],
     "prompt_number": 3
    },
    {
     "cell_type": "code",
     "collapsed": false,
     "input": [
      "rules(m1)"
     ],
     "language": "python",
     "metadata": {},
     "outputs": [
      {
       "metadata": {},
       "output_type": "pyout",
       "prompt_number": 4,
       "text": [
        "[Rule('deexcitation_ChlD1_fluorescence', PSII(ChlD1='exc') >> PSII(ChlD1='n'), deex_flu),\n",
        " Rule('deexcitation_ChlD1_heat', PSII(ChlD1='exc') >> PSII(ChlD1='n'), deex_heat),\n",
        " Rule('deexcitation_antenna_fluorescence', PSII(ac='exc') >> PSII(ac='n'), deex_flu),\n",
        " Rule('deexcitation_antenna_heat', PSII(ac='exc') >> PSII(ac='n'), deex_heat),\n",
        " Rule('excitation_transfer', PSII(ac='exc', ChlD1='n') <> PSII(ac='n', ChlD1='exc'), extrans, extrans_re),\n",
        " Rule('primary_charge_separation_recombination', PSII(PhD1='n', ChlD1='exc') <> PSII(PhD1='m', ChlD1='p'), ch_se, ch_re),\n",
        " Rule('quinone_qa_reduction_oxidation', PSII(Qa='n', PhD1='m', ChlD1='n') <> PSII(Qa='m', PhD1='n', ChlD1='n'), qa_red, qa_oxi),\n",
        " Rule('stable_pair_generation_degeneration', PSII(P680='n', PhD1='m', ChlD1='p') <> PSII(P680='p', PhD1='m', ChlD1='n'), stab_gen, stab_deg)]"
       ]
      }
     ],
     "prompt_number": 4
    },
    {
     "cell_type": "markdown",
     "metadata": {},
     "source": [
      "## BNGL original"
     ]
    },
    {
     "cell_type": "code",
     "collapsed": false,
     "input": [
      "print bng.BngGenerator(model).get_content()"
     ],
     "language": "python",
     "metadata": {},
     "outputs": [
      {
       "output_type": "stream",
       "stream": "stdout",
       "text": [
        "begin parameters\n",
        "  deex_heat    2.000000e+05\n",
        "  qa_oxi       2.400000e+09\n",
        "  ch_se        5.000000e+11\n",
        "  stab_gen     2.500000e+11\n",
        "  qa_red       4.800000e+09\n",
        "  extrans      1.920000e+10\n",
        "  extrans_re   2.500000e+10\n",
        "  deex_flu     6.700000e+07\n",
        "  ch_re        5.000000e+11\n",
        "  stab_deg     6.700000e+10\n",
        "  init         1.000000e+00\n",
        "end parameters\n",
        "\n",
        "begin molecule types\n",
        "  PSII(P680~n~p,Qa~n~m,PhD1~n~m,ac~n~exc,ChlD1~n~p~exc)\n",
        "end molecule types\n",
        "\n",
        "begin observables\n",
        "  Molecules Ant_exc     PSII(P680~n,Qa~n,PhD1~n,ac~exc,ChlD1~n)\n",
        "  Molecules ChlD1_exc   PSII(P680~n,Qa~n,PhD1~n,ac~n,ChlD1~exc)\n",
        "end observables\n",
        "\n",
        "begin species\n",
        "  PSII(P680~n,Qa~n,PhD1~n,ac~exc,ChlD1~n)   init\n",
        "end species\n",
        "begin reaction rules\n",
        "  deexcitation_antenna_fluorescence:        PSII(P680~n,Qa~n,PhD1~n,ac~exc,ChlD1~n) -> PSII(P680~n,Qa~n,PhD1~n,ac~n,ChlD1~n)    deex_flu\n",
        "  deexcitation_antenna_heat:                PSII(P680~n,Qa~n,PhD1~n,ac~exc,ChlD1~n) -> PSII(P680~n,Qa~n,PhD1~n,ac~n,ChlD1~n)    deex_heat\n",
        "  deexcitation_ChlD1_fluorescence:          PSII(P680~n,Qa~n,PhD1~n,ac~n,ChlD1~exc) -> PSII(P680~n,Qa~n,PhD1~n,ac~n,ChlD1~n)    deex_flu\n",
        "  deexcitation_ChlD1_heat:                  PSII(P680~n,Qa~n,PhD1~n,ac~n,ChlD1~exc) -> PSII(P680~n,Qa~n,PhD1~n,ac~n,ChlD1~n)    deex_heat\n",
        "  excitation_transfer:                      PSII(P680~n,Qa~n,PhD1~n,ac~exc,ChlD1~n) <-> PSII(P680~n,Qa~n,PhD1~n,ac~n,ChlD1~exc)    extrans, extrans_re\n",
        "  primary_charge_separation_recombination:  PSII(P680~n,Qa~n,PhD1~n,ac~n,ChlD1~exc) <-> PSII(P680~n,Qa~n,PhD1~m,ac~n,ChlD1~p)    ch_se, ch_re\n",
        "  stable_pair_generation_degeneration:      PSII(P680~n,Qa~n,PhD1~m,ac~n,ChlD1~p) <-> PSII(P680~p,Qa~n,PhD1~m,ac~n,ChlD1~n)    stab_gen, stab_deg\n",
        "  quinone_qa_reduction_oxidation:           PSII(P680~p,Qa~n,PhD1~m,ac~n,ChlD1~n) <-> PSII(P680~p,Qa~m,PhD1~n,ac~n,ChlD1~n)    qa_red, qa_oxi\n",
        "end reaction rules\n",
        "\n",
        "\n"
       ]
      }
     ],
     "prompt_number": 5
    },
    {
     "cell_type": "markdown",
     "metadata": {},
     "source": [
      "## BNGL simplified"
     ]
    },
    {
     "cell_type": "code",
     "collapsed": false,
     "input": [
      "print bng.BngGenerator(m1).get_content()"
     ],
     "language": "python",
     "metadata": {},
     "outputs": [
      {
       "output_type": "stream",
       "stream": "stdout",
       "text": [
        "begin parameters\n",
        "  deex_heat    2.000000e+05\n",
        "  qa_oxi       2.400000e+09\n",
        "  ch_se        5.000000e+11\n",
        "  stab_gen     2.500000e+11\n",
        "  qa_red       4.800000e+09\n",
        "  extrans      1.920000e+10\n",
        "  extrans_re   2.500000e+10\n",
        "  deex_flu     6.700000e+07\n",
        "  ch_re        5.000000e+11\n",
        "  stab_deg     6.700000e+10\n",
        "  init         1.000000e+00\n",
        "end parameters\n",
        "\n",
        "begin molecule types\n",
        "  PSII(P680~n~p,Qa~n~m,PhD1~n~m,ac~n~exc,ChlD1~n~p~exc)\n",
        "end molecule types\n",
        "\n",
        "begin observables\n",
        "  Molecules Ant_exc     PSII(P680~n,Qa~n,PhD1~n,ac~exc,ChlD1~n)\n",
        "  Molecules ChlD1_exc   PSII(P680~n,Qa~n,PhD1~n,ac~n,ChlD1~exc)\n",
        "end observables\n",
        "\n",
        "begin species\n",
        "  PSII(P680~n,Qa~n,PhD1~n,ac~exc,ChlD1~n)   init\n",
        "end species\n",
        "begin reaction rules\n",
        "  stable_pair_generation_degeneration:      PSII(P680~n,PhD1~m,ChlD1~p) <-> PSII(P680~p,PhD1~m,ChlD1~n)    stab_gen, stab_deg\n",
        "  quinone_qa_reduction_oxidation:           PSII(Qa~n,PhD1~m,ChlD1~n) <-> PSII(Qa~m,PhD1~n,ChlD1~n)    qa_red, qa_oxi\n",
        "  excitation_transfer:                      PSII(ac~exc,ChlD1~n) <-> PSII(ac~n,ChlD1~exc)    extrans, extrans_re\n",
        "  primary_charge_separation_recombination:  PSII(PhD1~n,ChlD1~exc) <-> PSII(PhD1~m,ChlD1~p)    ch_se, ch_re\n",
        "  deexcitation_antenna_fluorescence:        PSII(ac~exc) -> PSII(ac~n)    deex_flu\n",
        "  deexcitation_antenna_heat:                PSII(ac~exc) -> PSII(ac~n)    deex_heat\n",
        "  deexcitation_ChlD1_fluorescence:          PSII(ChlD1~exc) -> PSII(ChlD1~n)    deex_flu\n",
        "  deexcitation_ChlD1_heat:                  PSII(ChlD1~exc) -> PSII(ChlD1~n)    deex_heat\n",
        "end reaction rules\n",
        "\n",
        "\n"
       ]
      }
     ],
     "prompt_number": 6
    },
    {
     "cell_type": "code",
     "collapsed": false,
     "input": [],
     "language": "python",
     "metadata": {},
     "outputs": [],
     "prompt_number": 6
    }
   ],
   "metadata": {}
  }
 ]
}