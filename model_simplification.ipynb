{
 "metadata": {
  "name": "",
  "signature": "sha256:e754ffbf5d1b2ce2e7d5e0ce5e29c4cbf334ddaa53f1850da96c8b55582a3c13"
 },
 "nbformat": 3,
 "nbformat_minor": 0,
 "worksheets": [
  {
   "cells": [
    {
     "cell_type": "code",
     "collapsed": false,
     "input": [
      "from models.holzwarth.naive import model as holz\n",
      "from models.nedbal.naive import model as nedbal\n",
      "from tools import dfs, rules\n",
      "from pysb import bng"
     ],
     "language": "python",
     "metadata": {},
     "outputs": [],
     "prompt_number": 1
    },
    {
     "cell_type": "markdown",
     "metadata": {},
     "source": [
      "# Holzwarth"
     ]
    },
    {
     "cell_type": "markdown",
     "metadata": {},
     "source": [
      "## Original model"
     ]
    },
    {
     "cell_type": "code",
     "collapsed": false,
     "input": [
      "holz.rules"
     ],
     "language": "python",
     "metadata": {},
     "outputs": [
      {
       "metadata": {},
       "output_type": "pyout",
       "prompt_number": 2,
       "text": [
        "ComponentSet([\n",
        " Rule('deexcitation_antenna_fluorescence', PSII(P680='n', Qa='n', PhD1='n', ac='exc', ChlD1='n') >> PSII(P680='n', Qa='n', PhD1='n', ac='n', ChlD1='n'), deex_flu),\n",
        " Rule('deexcitation_antenna_heat', PSII(P680='n', Qa='n', PhD1='n', ac='exc', ChlD1='n') >> PSII(P680='n', Qa='n', PhD1='n', ac='n', ChlD1='n'), deex_heat),\n",
        " Rule('deexcitation_ChlD1_fluorescence', PSII(P680='n', Qa='n', PhD1='n', ac='n', ChlD1='exc') >> PSII(P680='n', Qa='n', PhD1='n', ac='n', ChlD1='n'), deex_flu),\n",
        " Rule('deexcitation_ChlD1_heat', PSII(P680='n', Qa='n', PhD1='n', ac='n', ChlD1='exc') >> PSII(P680='n', Qa='n', PhD1='n', ac='n', ChlD1='n'), deex_heat),\n",
        " Rule('excitation_transfer', PSII(P680='n', Qa='n', PhD1='n', ac='exc', ChlD1='n') <> PSII(P680='n', Qa='n', PhD1='n', ac='n', ChlD1='exc'), extrans, extrans_re),\n",
        " Rule('primary_charge_separation_recombination', PSII(P680='n', Qa='n', PhD1='n', ac='n', ChlD1='exc') <> PSII(P680='n', Qa='n', PhD1='m', ac='n', ChlD1='p'), ch_se, ch_re),\n",
        " Rule('stable_pair_generation_degeneration', PSII(P680='n', Qa='n', PhD1='m', ac='n', ChlD1='p') <> PSII(P680='p', Qa='n', PhD1='m', ac='n', ChlD1='n'), stab_gen, stab_deg),\n",
        " Rule('quinone_qa_reduction_oxidation', PSII(P680='p', Qa='n', PhD1='m', ac='n', ChlD1='n') <> PSII(P680='p', Qa='m', PhD1='n', ac='n', ChlD1='n'), qa_red, qa_oxi),\n",
        " ])"
       ]
      }
     ],
     "prompt_number": 2
    },
    {
     "cell_type": "code",
     "collapsed": false,
     "input": [
      "print bng.BngGenerator(holz).get_content()"
     ],
     "language": "python",
     "metadata": {},
     "outputs": [
      {
       "output_type": "stream",
       "stream": "stdout",
       "text": [
        "begin parameters\n",
        "  deex_heat    2.000000e+05\n",
        "  qa_oxi       2.400000e+09\n",
        "  ch_se        5.000000e+11\n",
        "  stab_gen     2.500000e+11\n",
        "  qa_red       4.800000e+09\n",
        "  extrans      1.920000e+10\n",
        "  extrans_re   2.500000e+10\n",
        "  deex_flu     6.700000e+07\n",
        "  ch_re        5.000000e+11\n",
        "  stab_deg     6.700000e+10\n",
        "  init         1.000000e+00\n",
        "end parameters\n",
        "\n",
        "begin molecule types\n",
        "  PSII(P680~n~p,Qa~n~m,PhD1~n~m,ac~n~exc,ChlD1~n~p~exc)\n",
        "end molecule types\n",
        "\n",
        "begin reaction rules\n",
        "  deexcitation_antenna_fluorescence:        PSII(P680~n,Qa~n,PhD1~n,ac~exc,ChlD1~n) -> PSII(P680~n,Qa~n,PhD1~n,ac~n,ChlD1~n)    deex_flu\n",
        "  deexcitation_antenna_heat:                PSII(P680~n,Qa~n,PhD1~n,ac~exc,ChlD1~n) -> PSII(P680~n,Qa~n,PhD1~n,ac~n,ChlD1~n)    deex_heat\n",
        "  deexcitation_ChlD1_fluorescence:          PSII(P680~n,Qa~n,PhD1~n,ac~n,ChlD1~exc) -> PSII(P680~n,Qa~n,PhD1~n,ac~n,ChlD1~n)    deex_flu\n",
        "  deexcitation_ChlD1_heat:                  PSII(P680~n,Qa~n,PhD1~n,ac~n,ChlD1~exc) -> PSII(P680~n,Qa~n,PhD1~n,ac~n,ChlD1~n)    deex_heat\n",
        "  excitation_transfer:                      PSII(P680~n,Qa~n,PhD1~n,ac~exc,ChlD1~n) <-> PSII(P680~n,Qa~n,PhD1~n,ac~n,ChlD1~exc)    extrans, extrans_re\n",
        "  primary_charge_separation_recombination:  PSII(P680~n,Qa~n,PhD1~n,ac~n,ChlD1~exc) <-> PSII(P680~n,Qa~n,PhD1~m,ac~n,ChlD1~p)    ch_se, ch_re\n",
        "  stable_pair_generation_degeneration:      PSII(P680~n,Qa~n,PhD1~m,ac~n,ChlD1~p) <-> PSII(P680~p,Qa~n,PhD1~m,ac~n,ChlD1~n)    stab_gen, stab_deg\n",
        "  quinone_qa_reduction_oxidation:           PSII(P680~p,Qa~n,PhD1~m,ac~n,ChlD1~n) <-> PSII(P680~p,Qa~m,PhD1~n,ac~n,ChlD1~n)    qa_red, qa_oxi\n",
        "end reaction rules\n",
        "\n",
        "begin observables\n",
        "  Molecules Ant_exc     PSII(P680~n,Qa~n,PhD1~n,ac~exc,ChlD1~n)\n",
        "  Molecules ChlD1_exc   PSII(P680~n,Qa~n,PhD1~n,ac~n,ChlD1~exc)\n",
        "end observables\n",
        "\n",
        "begin species\n",
        "  PSII(P680~n,Qa~n,PhD1~n,ac~exc,ChlD1~n)   init\n",
        "end species\n",
        "\n"
       ]
      }
     ],
     "prompt_number": 3
    },
    {
     "cell_type": "markdown",
     "metadata": {},
     "source": [
      "## Simplified model"
     ]
    },
    {
     "cell_type": "code",
     "collapsed": false,
     "input": [
      "holz1 = dfs(holz)"
     ],
     "language": "python",
     "metadata": {},
     "outputs": [
      {
       "output_type": "stream",
       "stream": "stdout",
       "text": [
        "ce: deexcitation_antenna_fluorescence: PSII(Qa~n)\n",
        "ce: deexcitation_antenna_fluorescence: PSII(PhD1~n)"
       ]
      },
      {
       "output_type": "stream",
       "stream": "stdout",
       "text": [
        "\n",
        "ce: deexcitation_antenna_fluorescence: PSII(P680~n)"
       ]
      },
      {
       "output_type": "stream",
       "stream": "stdout",
       "text": [
        "\n",
        "ce: deexcitation_antenna_fluorescence: PSII(ChlD1~n)"
       ]
      },
      {
       "output_type": "stream",
       "stream": "stdout",
       "text": [
        "\n",
        "ce: deexcitation_antenna_heat: PSII(Qa~n)"
       ]
      },
      {
       "output_type": "stream",
       "stream": "stdout",
       "text": [
        "\n",
        "ce: deexcitation_antenna_heat: PSII(PhD1~n)"
       ]
      },
      {
       "output_type": "stream",
       "stream": "stdout",
       "text": [
        "\n",
        "ce: deexcitation_antenna_heat: PSII(P680~n)"
       ]
      },
      {
       "output_type": "stream",
       "stream": "stdout",
       "text": [
        "\n",
        "ce: deexcitation_antenna_heat: PSII(ChlD1~n)"
       ]
      },
      {
       "output_type": "stream",
       "stream": "stdout",
       "text": [
        "\n",
        "ce: deexcitation_ChlD1_fluorescence: PSII(Qa~n)"
       ]
      },
      {
       "output_type": "stream",
       "stream": "stdout",
       "text": [
        "\n",
        "ce: deexcitation_ChlD1_fluorescence: PSII(PhD1~n)"
       ]
      },
      {
       "output_type": "stream",
       "stream": "stdout",
       "text": [
        "\n",
        "ce: deexcitation_ChlD1_fluorescence: PSII(ac~n)"
       ]
      },
      {
       "output_type": "stream",
       "stream": "stdout",
       "text": [
        "\n",
        "ce: deexcitation_ChlD1_fluorescence: PSII(P680~n)"
       ]
      },
      {
       "output_type": "stream",
       "stream": "stdout",
       "text": [
        "\n",
        "ce: deexcitation_ChlD1_heat: PSII(Qa~n)"
       ]
      },
      {
       "output_type": "stream",
       "stream": "stdout",
       "text": [
        "\n",
        "ce: deexcitation_ChlD1_heat: PSII(PhD1~n)"
       ]
      },
      {
       "output_type": "stream",
       "stream": "stdout",
       "text": [
        "\n",
        "ce: deexcitation_ChlD1_heat: PSII(ac~n)"
       ]
      },
      {
       "output_type": "stream",
       "stream": "stdout",
       "text": [
        "\n",
        "ce: deexcitation_ChlD1_heat: PSII(P680~n)"
       ]
      },
      {
       "output_type": "stream",
       "stream": "stdout",
       "text": [
        "\n",
        "ce: excitation_transfer: PSII(Qa~n)"
       ]
      },
      {
       "output_type": "stream",
       "stream": "stdout",
       "text": [
        "\n",
        "ce: excitation_transfer: PSII(PhD1~n)"
       ]
      },
      {
       "output_type": "stream",
       "stream": "stdout",
       "text": [
        "\n",
        "ce: excitation_transfer: PSII(P680~n)"
       ]
      },
      {
       "output_type": "stream",
       "stream": "stdout",
       "text": [
        "\n",
        "ce: primary_charge_separation_recombination: PSII(Qa~n)"
       ]
      },
      {
       "output_type": "stream",
       "stream": "stdout",
       "text": [
        "\n",
        "ce: primary_charge_separation_recombination: PSII(ac~n)"
       ]
      },
      {
       "output_type": "stream",
       "stream": "stdout",
       "text": [
        "\n",
        "ce: primary_charge_separation_recombination: PSII(P680~n)"
       ]
      },
      {
       "output_type": "stream",
       "stream": "stdout",
       "text": [
        "\n",
        "ce: stable_pair_generation_degeneration: PSII(Qa~n)"
       ]
      },
      {
       "output_type": "stream",
       "stream": "stdout",
       "text": [
        "\n",
        "ce: stable_pair_generation_degeneration: PSII(ac~n)"
       ]
      },
      {
       "output_type": "stream",
       "stream": "stdout",
       "text": [
        "\n",
        "ce: quinone_qa_reduction_oxidation: PSII(ac~n)"
       ]
      },
      {
       "output_type": "stream",
       "stream": "stdout",
       "text": [
        "\n",
        "ce: quinone_qa_reduction_oxidation: PSII(P680~p)"
       ]
      },
      {
       "output_type": "stream",
       "stream": "stdout",
       "text": [
        "\n"
       ]
      }
     ],
     "prompt_number": 4
    },
    {
     "cell_type": "code",
     "collapsed": false,
     "input": [
      "holz1.rules"
     ],
     "language": "python",
     "metadata": {},
     "outputs": [
      {
       "metadata": {},
       "output_type": "pyout",
       "prompt_number": 5,
       "text": [
        "ComponentSet([\n",
        " Rule('deexcitation_antenna_fluorescence', PSII(ac='exc') >> PSII(ac='n'), deex_flu),\n",
        " Rule('deexcitation_antenna_heat', PSII(ac='exc') >> PSII(ac='n'), deex_heat),\n",
        " Rule('deexcitation_ChlD1_fluorescence', PSII(ChlD1='exc') >> PSII(ChlD1='n'), deex_flu),\n",
        " Rule('deexcitation_ChlD1_heat', PSII(ChlD1='exc') >> PSII(ChlD1='n'), deex_heat),\n",
        " Rule('excitation_transfer', PSII(ac='exc', ChlD1='n') <> PSII(ac='n', ChlD1='exc'), extrans, extrans_re),\n",
        " Rule('primary_charge_separation_recombination', PSII(PhD1='n', ChlD1='exc') <> PSII(PhD1='m', ChlD1='p'), ch_se, ch_re),\n",
        " Rule('stable_pair_generation_degeneration', PSII(P680='n', PhD1='m', ChlD1='p') <> PSII(P680='p', PhD1='m', ChlD1='n'), stab_gen, stab_deg),\n",
        " Rule('quinone_qa_reduction_oxidation', PSII(Qa='n', PhD1='m', ChlD1='n') <> PSII(Qa='m', PhD1='n', ChlD1='n'), qa_red, qa_oxi),\n",
        " ])"
       ]
      }
     ],
     "prompt_number": 5
    },
    {
     "cell_type": "code",
     "collapsed": false,
     "input": [
      "print bng.BngGenerator(holz1).get_content()"
     ],
     "language": "python",
     "metadata": {},
     "outputs": [
      {
       "output_type": "stream",
       "stream": "stdout",
       "text": [
        "begin parameters\n",
        "  deex_heat    2.000000e+05\n",
        "  qa_oxi       2.400000e+09\n",
        "  ch_se        5.000000e+11\n",
        "  stab_gen     2.500000e+11\n",
        "  qa_red       4.800000e+09\n",
        "  extrans      1.920000e+10\n",
        "  extrans_re   2.500000e+10\n",
        "  deex_flu     6.700000e+07\n",
        "  ch_re        5.000000e+11\n",
        "  stab_deg     6.700000e+10\n",
        "  init         1.000000e+00\n",
        "end parameters\n",
        "\n",
        "begin molecule types\n",
        "  PSII(P680~n~p,Qa~n~m,PhD1~n~m,ac~n~exc,ChlD1~n~p~exc)\n",
        "end molecule types\n",
        "\n",
        "begin reaction rules\n",
        "  deexcitation_antenna_fluorescence:        PSII(ac~exc) -> PSII(ac~n)    deex_flu\n",
        "  deexcitation_antenna_heat:                PSII(ac~exc) -> PSII(ac~n)    deex_heat\n",
        "  deexcitation_ChlD1_fluorescence:          PSII(ChlD1~exc) -> PSII(ChlD1~n)    deex_flu\n",
        "  deexcitation_ChlD1_heat:                  PSII(ChlD1~exc) -> PSII(ChlD1~n)    deex_heat\n",
        "  excitation_transfer:                      PSII(ac~exc,ChlD1~n) <-> PSII(ac~n,ChlD1~exc)    extrans, extrans_re\n",
        "  primary_charge_separation_recombination:  PSII(PhD1~n,ChlD1~exc) <-> PSII(PhD1~m,ChlD1~p)    ch_se, ch_re\n",
        "  stable_pair_generation_degeneration:      PSII(P680~n,PhD1~m,ChlD1~p) <-> PSII(P680~p,PhD1~m,ChlD1~n)    stab_gen, stab_deg\n",
        "  quinone_qa_reduction_oxidation:           PSII(Qa~n,PhD1~m,ChlD1~n) <-> PSII(Qa~m,PhD1~n,ChlD1~n)    qa_red, qa_oxi\n",
        "end reaction rules\n",
        "\n",
        "begin observables\n",
        "  Molecules Ant_exc     PSII(P680~n,Qa~n,PhD1~n,ac~exc,ChlD1~n)\n",
        "  Molecules ChlD1_exc   PSII(P680~n,Qa~n,PhD1~n,ac~n,ChlD1~exc)\n",
        "end observables\n",
        "\n",
        "begin species\n",
        "  PSII(P680~n,Qa~n,PhD1~n,ac~exc,ChlD1~n)   init\n",
        "end species\n",
        "\n"
       ]
      }
     ],
     "prompt_number": 6
    },
    {
     "cell_type": "markdown",
     "metadata": {},
     "source": [
      "# Nedbal"
     ]
    },
    {
     "cell_type": "code",
     "collapsed": false,
     "input": [
      "nedbal.rules"
     ],
     "language": "python",
     "metadata": {},
     "outputs": [
      {
       "metadata": {},
       "output_type": "pyout",
       "prompt_number": 7,
       "text": [
        "ComponentSet([\n",
        " Rule('excitation_antenna', PSII(Ant='n') >> PSII(Ant='exc'), k),\n",
        " Rule('excitation_primary_chlorophyll_donor', PSII(ChlD='n') >> PSII(ChlD='exc'), k),\n",
        " Rule('energy_transfer', PSII(Ant='exc', ChlD='n') <> PSII(Ant='n', ChlD='exc'), k, k),\n",
        " Rule('deexcitation_antenna_fluorescence', PSII(Ant='exc') >> PSII(Ant='n'), k),\n",
        " Rule('deexcitation_chlor_donor_fluorescence', PSII(ChlD='exc') >> PSII(ChlD='n'), k),\n",
        " Rule('primary_charge_separation', PSII(Yz='n', P680='n', ChlD='exc', Pheo='n') >> PSII(Yz='n', P680='n', ChlD='p', Pheo='m'), k),\n",
        " Rule('stable_radical_pair_generation', PSII(Yz='n', P680='n', ChlD='p', Pheo='m') >> PSII(Yz='n', P680='p', ChlD='n', Pheo='m'), k),\n",
        " Rule('quinone_qa_reduction_preserving_P680_oxidized', PSII(Yz='n', P680='p', ChlD='n', Pheo='m', Qa='n') >> PSII(Yz='n', P680='p', ChlD='n', Pheo='n', Qa='m'), k),\n",
        " Rule('tyrosine_oxidation', PSII(Yz='n', P680='p', ChlD='n', Pheo='n', Qa='m') >> PSII(Yz='p', P680='n', ChlD='n', Pheo='n', Qa='m'), k),\n",
        " Rule('tyrosine_oxidation_preserving_Pheo_reduced', PSII(Yz='n', P680='p', ChlD='n', Pheo='m') >> PSII(Yz='p', P680='n', ChlD='n', Pheo='m'), k),\n",
        " Rule('quinone_qa_reduction_preserving_Yz_oxidized', PSII(Yz='p', P680='n', ChlD='n', Pheo='m', Qa='n') >> PSII(Yz='p', P680='n', ChlD='n', Pheo='n', Qa='m'), k),\n",
        " Rule('quinone_qa_reduction', PSII(Yz='n', P680='n', ChlD='n', Pheo='m', Qa='n') >> PSII(Yz='n', P680='n', ChlD='n', Pheo='n', Qa='m'), k),\n",
        " Rule('s_state_transition_0', PSII(Yz='p', P680='n', ChlD='n', Pheo='n', S='0') >> PSII(Yz='n', P680='n', ChlD='n', Pheo='n', S='1'), k),\n",
        " Rule('s_state_transition_1', PSII(Yz='p', P680='n', ChlD='n', Pheo='n', S='1') >> PSII(Yz='n', P680='n', ChlD='n', Pheo='n', S='2'), k),\n",
        " Rule('s_state_transition_2', PSII(Yz='p', P680='n', ChlD='n', Pheo='n', S='2') >> PSII(Yz='n', P680='n', ChlD='n', Pheo='n', S='3'), k),\n",
        " Rule('s_state_transition_3', PSII(Yz='p', P680='n', ChlD='n', Pheo='n', S='3') >> PSII(Yz='n', P680='n', ChlD='n', Pheo='n', S='4'), k),\n",
        " Rule('s_state_transition_0_with_Pheo_reduced', PSII(Yz='p', P680='n', ChlD='n', Pheo='m', S='0') >> PSII(Yz='n', P680='n', ChlD='n', Pheo='m', S='1'), k),\n",
        " Rule('s_state_transition_1_with_Pheo_reduced', PSII(Yz='p', P680='n', ChlD='n', Pheo='m', S='1') >> PSII(Yz='n', P680='n', ChlD='n', Pheo='m', S='2'), k),\n",
        " Rule('s_state_transition_2_with_Pheo_reduced', PSII(Yz='p', P680='n', ChlD='n', Pheo='m', S='2') >> PSII(Yz='n', P680='n', ChlD='n', Pheo='m', S='3'), k),\n",
        " Rule('s_state_transition_3_with_Pheo_reduced', PSII(Yz='p', P680='n', ChlD='n', Pheo='m', S='3') >> PSII(Yz='n', P680='n', ChlD='n', Pheo='m', S='4'), k),\n",
        " Rule('S4_to_S0_transition', PSII(S='4') >> PSII(S='0'), k),\n",
        " ])"
       ]
      }
     ],
     "prompt_number": 7
    },
    {
     "cell_type": "code",
     "collapsed": false,
     "input": [
      "nedbal1 = dfs(nedbal)"
     ],
     "language": "python",
     "metadata": {},
     "outputs": [
      {
       "output_type": "stream",
       "stream": "stdout",
       "text": [
        "bi: deexcitation_chlor_donor_fluorescence__excitation_primary_chlorophyll_donor\n",
        "bi: deexcitation_antenna_fluorescence__excitation_antenna"
       ]
      },
      {
       "output_type": "stream",
       "stream": "stdout",
       "text": [
        "\n",
        "CEE: PSII Pheo; s_state_transition_3__s_state_transition_3_with_Pheo_reduced"
       ]
      },
      {
       "output_type": "stream",
       "stream": "stdout",
       "text": [
        "\n",
        "CEE: PSII Pheo; s_state_transition_2__s_state_transition_2_with_Pheo_reduced"
       ]
      },
      {
       "output_type": "stream",
       "stream": "stdout",
       "text": [
        "\n",
        "CEE: PSII Pheo; s_state_transition_1__s_state_transition_1_with_Pheo_reduced"
       ]
      },
      {
       "output_type": "stream",
       "stream": "stdout",
       "text": [
        "\n",
        "CEE: PSII Pheo; s_state_transition_0__s_state_transition_0_with_Pheo_reduced"
       ]
      },
      {
       "output_type": "stream",
       "stream": "stdout",
       "text": [
        "\n",
        "ce: stable_radical_pair_generation: PSII(Yz~n)"
       ]
      },
      {
       "output_type": "stream",
       "stream": "stdout",
       "text": [
        "\n",
        "ce: stable_radical_pair_generation: PSII(Pheo~m)"
       ]
      },
      {
       "output_type": "stream",
       "stream": "stdout",
       "text": [
        "\n",
        "ce: quinone_qa_reduction_preserving_P680_oxidized: PSII(Yz~n)"
       ]
      },
      {
       "output_type": "stream",
       "stream": "stdout",
       "text": [
        "\n",
        "CEE: PSII Yz; quinone_qa_reduction_preserving_Yz_oxidized__quinone_qa_reduction"
       ]
      },
      {
       "output_type": "stream",
       "stream": "stdout",
       "text": [
        "\n",
        "ce: tyrosine_oxidation: PSII(Qa~m)"
       ]
      },
      {
       "output_type": "stream",
       "stream": "stdout",
       "text": [
        "\n",
        "CEE: PSII Pheo; tyrosine_oxidation__tyrosine_oxidation_preserving_Pheo_reduced"
       ]
      },
      {
       "output_type": "stream",
       "stream": "stdout",
       "text": [
        "\n",
        "ce: tyrosine_oxidation__tyrosine_oxidation_preserving_Pheo_reduced: PSII(Pheo~None)"
       ]
      },
      {
       "output_type": "stream",
       "stream": "stdout",
       "text": [
        "\n",
        "ce: quinone_qa_reduction_preserving_Yz_oxidized__quinone_qa_reduction: PSII(Yz~None)"
       ]
      },
      {
       "output_type": "stream",
       "stream": "stdout",
       "text": [
        "\n",
        "CEE: PSII P680; quinone_qa_reduction_preserving_P680_oxidized__quinone_qa_reduction_preserving_Yz_oxidized__quinone_qa_reduction"
       ]
      },
      {
       "output_type": "stream",
       "stream": "stdout",
       "text": [
        "\n",
        "ce: quinone_qa_reduction_preserving_P680_oxidized__quinone_qa_reduction_preserving_Yz_oxidized__quinone_qa_reduction: PSII(P680~None)"
       ]
      },
      {
       "output_type": "stream",
       "stream": "stdout",
       "text": [
        "\n",
        "ce: s_state_transition_0__s_state_transition_0_with_Pheo_reduced: PSII(Pheo~None)"
       ]
      },
      {
       "output_type": "stream",
       "stream": "stdout",
       "text": [
        "\n",
        "ce: s_state_transition_0__s_state_transition_0_with_Pheo_reduced: PSII(P680~n)"
       ]
      },
      {
       "output_type": "stream",
       "stream": "stdout",
       "text": [
        "\n",
        "ce: s_state_transition_1__s_state_transition_1_with_Pheo_reduced: PSII(Pheo~None)"
       ]
      },
      {
       "output_type": "stream",
       "stream": "stdout",
       "text": [
        "\n",
        "ce: s_state_transition_1__s_state_transition_1_with_Pheo_reduced: PSII(P680~n)"
       ]
      },
      {
       "output_type": "stream",
       "stream": "stdout",
       "text": [
        "\n",
        "ce: s_state_transition_2__s_state_transition_2_with_Pheo_reduced: PSII(Pheo~None)"
       ]
      },
      {
       "output_type": "stream",
       "stream": "stdout",
       "text": [
        "\n",
        "ce: s_state_transition_2__s_state_transition_2_with_Pheo_reduced: PSII(P680~n)"
       ]
      },
      {
       "output_type": "stream",
       "stream": "stdout",
       "text": [
        "\n",
        "ce: s_state_transition_2__s_state_transition_2_with_Pheo_reduced: PSII(ChlD~n)"
       ]
      },
      {
       "output_type": "stream",
       "stream": "stdout",
       "text": [
        "\n",
        "ce: s_state_transition_3__s_state_transition_3_with_Pheo_reduced: PSII(Pheo~None)"
       ]
      },
      {
       "output_type": "stream",
       "stream": "stdout",
       "text": [
        "\n",
        "ce: s_state_transition_3__s_state_transition_3_with_Pheo_reduced: PSII(P680~n)"
       ]
      },
      {
       "output_type": "stream",
       "stream": "stdout",
       "text": [
        "\n",
        "ce: s_state_transition_3__s_state_transition_3_with_Pheo_reduced: PSII(ChlD~n)"
       ]
      },
      {
       "output_type": "stream",
       "stream": "stdout",
       "text": [
        "\n",
        "rem: s_state_transition_2__s_state_transition_2_with_Pheo_reduced"
       ]
      },
      {
       "output_type": "stream",
       "stream": "stdout",
       "text": [
        "\n",
        "rem: s_state_transition_3__s_state_transition_3_with_Pheo_reduced"
       ]
      },
      {
       "output_type": "stream",
       "stream": "stdout",
       "text": [
        "\n",
        "rem: S4_to_S0_transition"
       ]
      },
      {
       "output_type": "stream",
       "stream": "stdout",
       "text": [
        "\n"
       ]
      }
     ],
     "prompt_number": 8
    },
    {
     "cell_type": "code",
     "collapsed": false,
     "input": [
      "nedbal1.rules"
     ],
     "language": "python",
     "metadata": {},
     "outputs": [
      {
       "metadata": {},
       "output_type": "pyout",
       "prompt_number": 9,
       "text": [
        "ComponentSet([\n",
        " Rule('energy_transfer', PSII(Ant='exc', ChlD='n') <> PSII(Ant='n', ChlD='exc'), k, k),\n",
        " Rule('deexcitation_antenna_fluorescence__excitation_antenna', PSII(Ant='exc') <> PSII(Ant='n'), k, k),\n",
        " Rule('deexcitation_chlor_donor_fluorescence__excitation_primary_chlorophyll_donor', PSII(ChlD='exc') <> PSII(ChlD='n'), k, k),\n",
        " Rule('primary_charge_separation', PSII(Yz='n', P680='n', ChlD='exc', Pheo='n') >> PSII(Yz='n', P680='n', ChlD='p', Pheo='m'), k),\n",
        " Rule('stable_radical_pair_generation', PSII(P680='n', ChlD='p') >> PSII(P680='p', ChlD='n'), k),\n",
        " Rule('quinone_qa_reduction_preserving_P680_oxidized__quinone_qa_reduction_preserving_Yz_oxidized__quinone_qa_reduction', PSII(ChlD='n', Pheo='m', Qa='n') >> PSII(ChlD='n', Pheo='n', Qa='m'), k),\n",
        " Rule('tyrosine_oxidation__tyrosine_oxidation_preserving_Pheo_reduced', PSII(Yz='n', P680='p', ChlD='n') >> PSII(Yz='p', P680='n', ChlD='n'), k),\n",
        " Rule('s_state_transition_0__s_state_transition_0_with_Pheo_reduced', PSII(Yz='p', ChlD='n', S='0') >> PSII(Yz='n', ChlD='n', S='1'), k),\n",
        " Rule('s_state_transition_1__s_state_transition_1_with_Pheo_reduced', PSII(Yz='p', ChlD='n', S='1') >> PSII(Yz='n', ChlD='n', S='2'), k),\n",
        " ])"
       ]
      }
     ],
     "prompt_number": 9
    }
   ],
   "metadata": {}
  }
 ]
}